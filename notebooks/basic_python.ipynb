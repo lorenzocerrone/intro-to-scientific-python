{
 "cells": [
  {
   "cell_type": "markdown",
   "id": "9914ab23",
   "metadata": {
    "slideshow": {
     "slide_type": "slide"
    },
    "tags": [
     "0"
    ]
   },
   "source": [
    "# Basic Python cheat sheet"
   ]
  },
  {
   "cell_type": "code",
   "execution_count": null,
   "id": "bf8e807c",
   "metadata": {
    "slideshow": {
     "slide_type": "fragment"
    }
   },
   "outputs": [],
   "source": [
    "print(\"Hello World\")\n",
    "# or print multiple objects\n",
    "print(\"Hello\",  \"World\")\n",
    "# you can print any object\n",
    "print('1 + 2 =', 1 + 2)"
   ]
  },
  {
   "cell_type": "markdown",
   "id": "d23b05e6",
   "metadata": {
    "slideshow": {
     "slide_type": "slide"
    }
   },
   "source": [
    "## Basics of Jupyter"
   ]
  },
  {
   "cell_type": "markdown",
   "id": "5fd196d6",
   "metadata": {
    "slideshow": {
     "slide_type": "slide"
    }
   },
   "source": [
    "### shortcuts\n",
    "- `ctrl + enter` or `shift + enter`: run code in a cell or run and go down one cell\n",
    "- `ctrl + s`: save the notebook\n",
    "- `ctrl + shift + -`:  split the cell where the cursor is \n",
    "\n",
    "### magics\n",
    "- `something?`: shows the documentation of `something`\n",
    "- `%timeit`, `%time`: to check the run time of a line\n",
    "- `%%timeit`, `%%time`: to check the run time of a cell\n",
    "- `%load_ext autoreload; %autoreload 2`: if you want to work on a local python file\n",
    "\n",
    "if you have any doubts press `Tab` (for suggestions and autocomplete)"
   ]
  },
  {
   "cell_type": "code",
   "execution_count": null,
   "id": "4d0482f9",
   "metadata": {
    "slideshow": {
     "slide_type": "fragment"
    }
   },
   "outputs": [],
   "source": [
    "%load_ext autoreload\n",
    "%autoreload 2\n",
    "import my_script"
   ]
  },
  {
   "cell_type": "markdown",
   "id": "48418f6c",
   "metadata": {
    "slideshow": {
     "slide_type": "slide"
    }
   },
   "source": [
    "# Data Types"
   ]
  },
  {
   "cell_type": "markdown",
   "id": "b0dae582",
   "metadata": {
    "slideshow": {
     "slide_type": "subslide"
    }
   },
   "source": [
    "## Numbers"
   ]
  },
  {
   "cell_type": "code",
   "execution_count": null,
   "id": "4ac6a415",
   "metadata": {
    "slideshow": {
     "slide_type": "fragment"
    }
   },
   "outputs": [],
   "source": [
    "# 10, 10_000, int('10')            # integers\n",
    "# 10., 1e-4, float('1.3')          # floats (default is float64)\n",
    "1 + 5j, complex(0, 1)            # complex\n",
    "True, False                      # bool"
   ]
  },
  {
   "cell_type": "code",
   "execution_count": null,
   "id": "2231496e",
   "metadata": {},
   "outputs": [],
   "source": [
    "False + 10"
   ]
  },
  {
   "cell_type": "markdown",
   "id": "913d7c8b",
   "metadata": {},
   "source": [
    "# Implicit casting"
   ]
  },
  {
   "cell_type": "code",
   "execution_count": null,
   "id": "bd315282",
   "metadata": {},
   "outputs": [],
   "source": [
    "a = (1 * 2) + 2 - 10\n",
    "print('type of a', type(a))\n",
    "a = 4 / 2 # division always cast to float\n",
    "print('type of a', type(a))\n",
    "a, b = 4 // 2, 4 % 2 # quotient, remainder"
   ]
  },
  {
   "cell_type": "markdown",
   "id": "b5a653dd",
   "metadata": {},
   "source": [
    "# Explicit casting"
   ]
  },
  {
   "cell_type": "code",
   "execution_count": null,
   "id": "7f7d4932",
   "metadata": {
    "slideshow": {
     "slide_type": "fragment"
    }
   },
   "outputs": [],
   "source": [
    "a = 10\n",
    "print('type of a', type(a))\n",
    "a = float(a) # casting\n",
    "print('new type of a', type(a))\n",
    "\n",
    "a = float('1.') + float('1e0') + int('1') # you can cast strings"
   ]
  },
  {
   "cell_type": "markdown",
   "id": "55a94d3b",
   "metadata": {},
   "source": [
    "## Strings"
   ]
  },
  {
   "cell_type": "code",
   "execution_count": null,
   "id": "ce7e23a4",
   "metadata": {},
   "outputs": [],
   "source": [
    "a, b = 'this is a string', \"this is also a 'string'\"\n",
    "#a + b\n",
    "# a.capitalize()\n",
    "# a.find('string')\n",
    "# a.split(' ')\n",
    "''.join(['hello', ' ', 'worl', 'd'])"
   ]
  },
  {
   "cell_type": "code",
   "execution_count": null,
   "id": "3a398e49",
   "metadata": {},
   "outputs": [],
   "source": [
    "a.capitalize()"
   ]
  },
  {
   "cell_type": "markdown",
   "id": "b53afc04",
   "metadata": {},
   "source": [
    "## Formatted strings"
   ]
  },
  {
   "cell_type": "code",
   "execution_count": null,
   "id": "fad5e554",
   "metadata": {},
   "outputs": [],
   "source": [
    "b = 10/6\n",
    "a = f'b is {b}'\n",
    "print(a)\n",
    "a = f'b is {b=:.2f}' # on newer python\n",
    "print(a)\n",
    "a = f'b is {10/6:.2f}' # on newer python\n",
    "print(a)"
   ]
  },
  {
   "cell_type": "markdown",
   "id": "20410c57",
   "metadata": {},
   "source": [
    "## Lists"
   ]
  },
  {
   "cell_type": "code",
   "execution_count": null,
   "id": "8c45cbed",
   "metadata": {},
   "outputs": [],
   "source": [
    "[1, 2, 3], ['a', 'b', 1], [ [1, 0], [0, 1, 1] ] # list of not homogeneous objects"
   ]
  },
  {
   "cell_type": "code",
   "execution_count": null,
   "id": "7a81db31",
   "metadata": {},
   "outputs": [],
   "source": [
    "b = None\n",
    "a = ['a', 2, 1, 1]\n",
    "print(f'original list: {a}')\n",
    "print('get item by index:', a[0])      # get an element by index\n",
    "#a[0] = 'b'                             # set an element by index\n",
    "# b = a + ['new', 'elements']            # create a new list joining the two lists\n",
    "# b = a.remove(1)                        # remove by value (first appearance only)\n",
    "# b = a.pop(0)                           # remove by index, and return the element removed\n",
    "# b = a.append(5)                        # add 5 to the end of the list\n",
    "# b = a.insert(1, 'aa')                  # insert 'aa' at index 1\n",
    "print(f'list: {a}, and returns {b=}')"
   ]
  },
  {
   "cell_type": "markdown",
   "id": "9ab132e8",
   "metadata": {},
   "source": [
    "### Indexing"
   ]
  },
  {
   "cell_type": "code",
   "execution_count": null,
   "id": "a1107df7",
   "metadata": {},
   "outputs": [],
   "source": [
    "a = [1, 2, 3, 4, 5, 6]\n",
    "a[0:3]\n",
    "a[:3], a[3:]\n",
    "a[-1]\n",
    "a[:5:2]\n",
    "a[::-1]"
   ]
  },
  {
   "cell_type": "markdown",
   "id": "3a3a8c29",
   "metadata": {},
   "source": [
    "## Dictionaries"
   ]
  },
  {
   "cell_type": "code",
   "execution_count": null,
   "id": "b6ca2db5",
   "metadata": {},
   "outputs": [],
   "source": [
    "{'a': 1, 'b': [0, 0, 1]}, dict(a=1, b=[0, 0, 0])"
   ]
  },
  {
   "cell_type": "code",
   "execution_count": null,
   "id": "5002b837",
   "metadata": {},
   "outputs": [],
   "source": [
    "a = {'a': 1, 'b': 2}\n",
    "value = a['a']\n",
    "print(\"value stored at 'a': \", value)   # get the value from a key\n",
    "a['c'] = 3                              # set a new value\n",
    "a.update({'d': 1, 'a': 0})              # merge two dictionary and update existing keys\n",
    "print('updated dict ', a)"
   ]
  },
  {
   "cell_type": "markdown",
   "id": "5917dc48",
   "metadata": {},
   "source": [
    "## Tuples (kinda of like lists, but immutable)"
   ]
  },
  {
   "cell_type": "code",
   "execution_count": null,
   "id": "29acc51a",
   "metadata": {},
   "outputs": [],
   "source": [
    "a = ('a', 'b', 'c')\n",
    "# print('get item by index:', a[0])      # get an element by index\n",
    "# a[0] = 'b'                             # you can't mutate tuples (this will fail)\n",
    "# a + a                                  # create a new tuple joining the two tuples"
   ]
  },
  {
   "cell_type": "markdown",
   "id": "5cc0ee92",
   "metadata": {},
   "source": [
    "## Sets (behave like mathematical sets)"
   ]
  },
  {
   "cell_type": "code",
   "execution_count": null,
   "id": "902d9a10",
   "metadata": {},
   "outputs": [],
   "source": [
    "a = {1, 2, 2, 3}\n",
    "b = {2, 3, 4}\n",
    "\n",
    "# 3 a.union(b)\n",
    "a.intersection(b)\n",
    "# a.difference(b)\n",
    "# a.issubset(b)"
   ]
  },
  {
   "cell_type": "markdown",
   "id": "cd5dc98f",
   "metadata": {
    "slideshow": {
     "slide_type": "subslide"
    }
   },
   "source": [
    "## Logical operations"
   ]
  },
  {
   "cell_type": "code",
   "execution_count": null,
   "id": "aa0f6506",
   "metadata": {
    "slideshow": {
     "slide_type": "fragment"
    }
   },
   "outputs": [],
   "source": [
    "1 == 1, 2 > 1, 1 >= 1                               # all true\n",
    "1 == 1 and True, True or False, not False           # all true\n",
    "1 != 1, 1 < 1 < 2                                   # all false\n",
    "isinstance(1, int), hasattr([1, 2, 3], 'append')    # all true"
   ]
  },
  {
   "cell_type": "code",
   "execution_count": null,
   "id": "c0bd7a42",
   "metadata": {},
   "outputs": [],
   "source": [
    "1 != 1 or print('this will ne..')"
   ]
  },
  {
   "cell_type": "markdown",
   "id": "ed2a90f2",
   "metadata": {
    "slideshow": {
     "slide_type": "slide"
    }
   },
   "source": [
    "# Control flows"
   ]
  },
  {
   "cell_type": "markdown",
   "id": "1a7de5f0",
   "metadata": {
    "slideshow": {
     "slide_type": "subslide"
    }
   },
   "source": [
    "## If statement"
   ]
  },
  {
   "cell_type": "code",
   "execution_count": null,
   "id": "58fa7a5c",
   "metadata": {
    "slideshow": {
     "slide_type": "fragment"
    }
   },
   "outputs": [],
   "source": [
    "a = 4\n",
    "if a < 1:\n",
    "    print(f'{a=} is < 1')\n",
    "    \n",
    "elif a in [1, 2, 3]:\n",
    "    print('a in [1, 2, 3]')\n",
    "    \n",
    "    #elif a not in [1, 2, 3]:\n",
    "    #    print('a not in [1, 2, 3]')\n",
    "\n",
    "else:\n",
    "    print('Anything else.. (not reachable in this case)')"
   ]
  },
  {
   "cell_type": "code",
   "execution_count": null,
   "id": "843bd571",
   "metadata": {
    "slideshow": {
     "slide_type": "fragment"
    }
   },
   "outputs": [],
   "source": [
    "a = [1, 2, 3]\n",
    "if isinstance(a, list):\n",
    "    print(a)\n",
    "    \n",
    "\n",
    "\n",
    "a = []\n",
    "if a:\n",
    "    print('a is not empty')\n",
    "else:\n",
    "    print('a is empty')\n",
    "\n",
    "# same is true for tuple dictionary etc.."
   ]
  },
  {
   "cell_type": "markdown",
   "id": "ca726a55",
   "metadata": {
    "slideshow": {
     "slide_type": "subslide"
    }
   },
   "source": [
    "## For loops"
   ]
  },
  {
   "cell_type": "code",
   "execution_count": null,
   "id": "142b3b74",
   "metadata": {},
   "outputs": [],
   "source": [
    "for i in range(5):\n",
    "    print(i)"
   ]
  },
  {
   "cell_type": "code",
   "execution_count": null,
   "id": "83bb8561",
   "metadata": {},
   "outputs": [],
   "source": [
    "a = ['a', 'b', 'c']\n",
    "print('length of a:', len(a))\n",
    "\n",
    "for i in range(len(a)):\n",
    "    print(a[i])\n",
    "\n",
    "\n",
    "for value_a in a:\n",
    "    print(value_a)"
   ]
  },
  {
   "cell_type": "code",
   "execution_count": null,
   "id": "1a57741c",
   "metadata": {},
   "outputs": [],
   "source": [
    "a = ['a', 'c', 'b']\n",
    "\n",
    "print('First loop: enumerate')\n",
    "for i, value_a in enumerate(a):\n",
    "    print(i, value_a)\n",
    "\n",
    "print('Second loop: reversed')\n",
    "for value_a in reversed(a):\n",
    "    print(value_a)\n",
    "\n",
    "print('Third loop: sorted')\n",
    "for value_a in sorted(a):\n",
    "    print(value_a)\n",
    "\n",
    "print('Forth loop: zip')\n",
    "a = ['a', 'b', 'c']\n",
    "b = [1, 2, 3]\n",
    "for value_a, value_b in zip(a, b):\n",
    "    print(value_a, value_b)"
   ]
  },
  {
   "cell_type": "code",
   "execution_count": null,
   "id": "3f3db648",
   "metadata": {},
   "outputs": [],
   "source": [
    "a = {'a': 0, 'c': 1, 'b': 2}\n",
    "print('First loop: over keys')\n",
    "for key in a: #or a.keys()\n",
    "    print(key)\n",
    "\n",
    "print('Second loop: over values')\n",
    "for value in a.values():\n",
    "    print(value)\n",
    "\n",
    "print('Third loop: over key-values pairs')\n",
    "for key, value in a.items():\n",
    "    print(f'{key}: {value}')"
   ]
  },
  {
   "cell_type": "markdown",
   "id": "8c9916c2",
   "metadata": {
    "slideshow": {
     "slide_type": "subslide"
    }
   },
   "source": [
    "## List comprehension"
   ]
  },
  {
   "cell_type": "code",
   "execution_count": null,
   "id": "e85a234b",
   "metadata": {
    "slideshow": {
     "slide_type": "fragment"
    }
   },
   "outputs": [],
   "source": [
    "# correct but not 'pythonic'\n",
    "a = []\n",
    "for i in range(5):\n",
    "    if i % 2 == 0:\n",
    "        a.append(i)\n",
    "\n",
    "\n",
    "# a = [i**2 for i in range(5) if i > 2]\n",
    "a = [i for i in range(5) if i % 2 == 0]\n",
    "print(a)"
   ]
  },
  {
   "cell_type": "markdown",
   "id": "086c8c99",
   "metadata": {},
   "source": [
    "## Functions"
   ]
  },
  {
   "cell_type": "code",
   "execution_count": null,
   "id": "7f9948c6",
   "metadata": {},
   "outputs": [],
   "source": [
    "def sum_two_numbers(x, y=1):\n",
    "    return x + y\n",
    "\n",
    "sum_two_numbers(0, 2), sum_two_numbers(0), sum_two_numbers(0, y=2), sum_two_numbers(x=1, y=3), sum_two_numbers(y=3, x=0)\n",
    "# sum_two_numbers(x=0, 2) #invalid!!!"
   ]
  },
  {
   "cell_type": "markdown",
   "id": "19c21934",
   "metadata": {
    "slideshow": {
     "slide_type": "subslide"
    }
   },
   "source": [
    "## Classes"
   ]
  },
  {
   "cell_type": "code",
   "execution_count": null,
   "id": "b0ec88c8",
   "metadata": {
    "slideshow": {
     "slide_type": "fragment"
    }
   },
   "outputs": [],
   "source": [
    "class Person:\n",
    "    def __init__(self, name = 'Bob', age = 18):\n",
    "        self.name = name\n",
    "        self.age = age\n",
    "        \n",
    "    def add_one_yer(self):\n",
    "        self.age += 1\n",
    "\n",
    "bob = Person(name='Bob', age=20)\n",
    "bob.add_one_yer()\n",
    "bob.age"
   ]
  },
  {
   "cell_type": "markdown",
   "id": "050dbace",
   "metadata": {},
   "source": [
    "## Packages"
   ]
  },
  {
   "cell_type": "code",
   "execution_count": null,
   "id": "ab10df47",
   "metadata": {},
   "outputs": [],
   "source": [
    "import time\n",
    "time.sleep(0.1)\n",
    "\n",
    "from time import sleep\n",
    "sleep(0.1)\n",
    "\n",
    "from time import sleep as sleep2\n",
    "sleep2(0.1)\n",
    "\n",
    "# Ps python standard library is awesome! Some of my favourite imports\n",
    "# import pathlib\n",
    "# import functools\n",
    "# import itertools\n",
    "# import dataclasses"
   ]
  },
  {
   "cell_type": "markdown",
   "id": "fc02f440",
   "metadata": {},
   "source": [
    "# Advanced Topics (demystify python)"
   ]
  },
  {
   "cell_type": "markdown",
   "id": "011f4b51",
   "metadata": {},
   "source": [
    "## Functions (and scopes)"
   ]
  },
  {
   "cell_type": "code",
   "execution_count": null,
   "id": "04711d69",
   "metadata": {},
   "outputs": [],
   "source": [
    "var = 'global'\n",
    "def sum_two_numbers(x, y):\n",
    "    #global var\n",
    "    # print(0, var)\n",
    "    var = 'local'\n",
    "    print(1, var)\n",
    "    return x + y\n",
    "\n",
    "sum_two_numbers(1, 2)\n",
    "print(2, var)"
   ]
  },
  {
   "cell_type": "markdown",
   "id": "fabd0db5",
   "metadata": {},
   "source": [
    "## Filters and maps"
   ]
  },
  {
   "cell_type": "code",
   "execution_count": null,
   "id": "07cb6a2f",
   "metadata": {},
   "outputs": [],
   "source": [
    "anonymous_function = lambda x: x + 1                         # for simple function where is not necessary to allocate a name, you can use lambda functions\n",
    "# print(list(map(lambda x: x ** 2, range(5))))               # map a lambda function over an iterable\n",
    "# print(list(filter(lambda x: x > 2, [0, 1, 3, 4, 5, 6])))   # filter an iterable according to a lambda function (must return a bool)"
   ]
  },
  {
   "cell_type": "markdown",
   "id": "14c646a4",
   "metadata": {},
   "source": [
    "## Generators"
   ]
  },
  {
   "cell_type": "code",
   "execution_count": null,
   "id": "765e3dfd",
   "metadata": {},
   "outputs": [],
   "source": [
    "# there a thousand of ways to build iterables and generators, and you can build your own\n",
    "\n",
    "def my_iterable(n):\n",
    "    for i in range(n):\n",
    "        print(' - before the for-loop body')\n",
    "        yield i\n",
    "        print(' - after the for-loop body\\n')\n",
    "\n",
    "    print('This will be executed at the end')\n",
    "\n",
    "for i in my_iterable(3):\n",
    "    print('current value', i)\n",
    "    \n",
    "my_range = range(10000000000000000000000000000000000000000000000000000000000000000000000000000000)\n",
    "for i in my_range:\n",
    "    print(i)\n",
    "    if i == 5:\n",
    "        break"
   ]
  },
  {
   "cell_type": "markdown",
   "id": "2d6154b3",
   "metadata": {},
   "source": [
    "## Annotations"
   ]
  },
  {
   "cell_type": "code",
   "execution_count": null,
   "id": "a60248e7",
   "metadata": {},
   "outputs": [],
   "source": [
    "def add_two_numbers(x: int, y: int = 0) -> int:\n",
    "    \"\"\"\n",
    "    sum two integers and returns an integer\n",
    "    \"\"\"\n",
    "    return x + y\n",
    "\n",
    "add_two_numbers?"
   ]
  },
  {
   "cell_type": "markdown",
   "id": "00ffed0a",
   "metadata": {},
   "source": [
    "## Dunder Methods\n",
    "\"If it walks like a duck, and it quacks like a duck, then it must be a duck\""
   ]
  },
  {
   "cell_type": "code",
   "execution_count": null,
   "id": "b7f1faea",
   "metadata": {
    "scrolled": true,
    "slideshow": {
     "slide_type": "fragment"
    }
   },
   "outputs": [],
   "source": [
    "class Point2D:\n",
    "    def __init__(self, x, y):\n",
    "        self.x = x\n",
    "        self.y = y\n",
    "    def __repr__(self):\n",
    "        return f'point 2d {self.x}, {self.y}'\n",
    "    \n",
    "    def __add__(self, p):\n",
    "        return Point2D(self.x + p.x, self.y + p.y)\n",
    "    \n",
    "    def __getitem__(self, index):\n",
    "        if index == 0:\n",
    "            return self.x\n",
    "\n",
    "p1 = Point2D(0, 1)\n",
    "p2 = Point2D(1, 0)\n",
    "print(p1)"
   ]
  },
  {
   "cell_type": "markdown",
   "id": "c3245539",
   "metadata": {},
   "source": [
    "## Decorators and higher order functions"
   ]
  },
  {
   "cell_type": "code",
   "execution_count": null,
   "id": "255e658c",
   "metadata": {},
   "outputs": [],
   "source": [
    "import time\n",
    "def sum_two_numbers(x, y):\n",
    "    time.sleep(0.1)\n",
    "    return x + y\n",
    "\n",
    "sum_two_numbers(1, 2) # how long does this take?"
   ]
  },
  {
   "cell_type": "code",
   "execution_count": null,
   "id": "84c13cf7",
   "metadata": {},
   "outputs": [],
   "source": [
    "# this is a higher order function (function that takes another function as an argument)\n",
    "def timer(function, x, y):\n",
    "    timer = time.time()\n",
    "    res = function(x, y)\n",
    "    print(f'runtime {time.time() - timer: .2f}s')\n",
    "    return res\n",
    "\n",
    "timer(sum_two_numbers, 1, 2)"
   ]
  },
  {
   "cell_type": "code",
   "execution_count": null,
   "id": "e46be205",
   "metadata": {},
   "outputs": [],
   "source": [
    "# a decorator is just a function that returns another function\n",
    "def timer_decorator(function):\n",
    "    def new_function(*a, **k):\n",
    "        timer = time.time()\n",
    "        res = function(*a, **k)\n",
    "        print(f'runtime {time.time() - timer: .2f}s')\n",
    "        return res\n",
    "\n",
    "    return new_function\n",
    "\n",
    "@timer_decorator\n",
    "def sum_two_numbers(x=0, y=0):\n",
    "    time.sleep(0.1)\n",
    "    return x + y\n",
    "\n",
    "def sum_numbers(x=0, y=0, ...):\n",
    "    time.sleep(0.1)\n",
    "    return x + y\n",
    "\n",
    "sum_two_numbers(0, 0)"
   ]
  },
  {
   "cell_type": "code",
   "execution_count": null,
   "id": "d253e350",
   "metadata": {},
   "outputs": [],
   "source": [
    "def add(*args, **k):\n",
    "    print('args', args)\n",
    "    print('kwargs', k)\n",
    "    return sum(args)\n",
    "\n",
    "add(1, 2, 3, 4, k=1)"
   ]
  },
  {
   "cell_type": "markdown",
   "id": "dc1ae508",
   "metadata": {
    "slideshow": {
     "slide_type": "subslide"
    }
   },
   "source": [
    "## Inheritance and the **super** method"
   ]
  },
  {
   "cell_type": "code",
   "execution_count": null,
   "id": "af1c16fc",
   "metadata": {
    "slideshow": {
     "slide_type": "fragment"
    }
   },
   "outputs": [],
   "source": [
    "from abc import ABC\n",
    "\n",
    "class Pet:\n",
    "    def __init__(self, name: str, age: int):\n",
    "        self.name = name\n",
    "        self.age = age\n",
    "        \n",
    "    def __repr__(self):\n",
    "        return f'{self.name} is a {self.age} years old pet.'\n",
    "    \n",
    "class Animal:\n",
    "    def __init__(self, name: str, age: int):\n",
    "        self.name = name\n",
    "        self.age = age\n",
    "        \n",
    "    def __repr__(self):\n",
    "        return f'{self.name} is a {self.age} years old animal.'\n",
    "    \n",
    "class Dog(Animal, Pet):\n",
    "    def __repr__(self):\n",
    "        print(super(Pet).__repr__())\n",
    "        old_repr = super().__repr__()\n",
    "        return old_repr.replace('pet.', 'dog.')\n",
    "\n",
    "Dog('Whisky', age=1)"
   ]
  },
  {
   "cell_type": "code",
   "execution_count": null,
   "id": "119b4958",
   "metadata": {},
   "outputs": [],
   "source": []
  }
 ],
 "metadata": {
  "celltoolbar": "Slideshow",
  "kernelspec": {
   "display_name": "Python 3 (ipykernel)",
   "language": "python",
   "name": "python3"
  },
  "language_info": {
   "codemirror_mode": {
    "name": "ipython",
    "version": 3
   },
   "file_extension": ".py",
   "mimetype": "text/x-python",
   "name": "python",
   "nbconvert_exporter": "python",
   "pygments_lexer": "ipython3",
   "version": "3.10.6"
  },
  "toc-showcode": false
 },
 "nbformat": 4,
 "nbformat_minor": 5
}
