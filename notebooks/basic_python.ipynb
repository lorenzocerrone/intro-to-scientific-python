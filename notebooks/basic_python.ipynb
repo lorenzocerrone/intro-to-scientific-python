{
 "cells": [
  {
   "cell_type": "markdown",
   "id": "9914ab23",
   "metadata": {
    "slideshow": {
     "slide_type": "slide"
    },
    "tags": [
     "0"
    ]
   },
   "source": [
    "# Basic Python cheat sheet"
   ]
  },
  {
   "cell_type": "code",
   "execution_count": null,
   "id": "bf8e807c",
   "metadata": {
    "slideshow": {
     "slide_type": "fragment"
    }
   },
   "outputs": [],
   "source": [
    "print(\"Hello World\")"
   ]
  },
  {
   "cell_type": "markdown",
   "id": "d23b05e6",
   "metadata": {
    "slideshow": {
     "slide_type": "slide"
    }
   },
   "source": [
    "## Basics of Jupyter"
   ]
  },
  {
   "cell_type": "markdown",
   "id": "5fd196d6",
   "metadata": {
    "slideshow": {
     "slide_type": "slide"
    }
   },
   "source": [
    "### shortcuts\n",
    "- `ctrl + enter` or `shift + enter`: run code in a cell or run and go down one cell\n",
    "- `ctrl + s`: save the notebook\n",
    "- `ctrl + shift + -`:  split the cell where the cursor is \n",
    "\n",
    "### magics\n",
    "- `[something]?`: shows the documentation of `[something]`\n",
    "- `%timeit`, `%time`: to check the run time of a line\n",
    "- `%%timeit`, `%%time`: to check the run time of a cell\n",
    "- `%load_ext autoreload; %autoreload 2`: if you want to work on a local file \n",
    "\n",
    "if you have any doubts press `Tab` (for suggestions and autocomplete)"
   ]
  },
  {
   "cell_type": "code",
   "execution_count": null,
   "id": "4d0482f9",
   "metadata": {
    "slideshow": {
     "slide_type": "fragment"
    }
   },
   "outputs": [],
   "source": []
  },
  {
   "cell_type": "markdown",
   "id": "48418f6c",
   "metadata": {
    "slideshow": {
     "slide_type": "slide"
    }
   },
   "source": [
    "# Data Types"
   ]
  },
  {
   "cell_type": "markdown",
   "id": "b0dae582",
   "metadata": {
    "slideshow": {
     "slide_type": "subslide"
    }
   },
   "source": [
    "## Numbers"
   ]
  },
  {
   "cell_type": "code",
   "execution_count": null,
   "id": "4ac6a415",
   "metadata": {
    "slideshow": {
     "slide_type": "fragment"
    }
   },
   "outputs": [],
   "source": [
    "True, False                      # bool\n",
    "10, 10_000, int('10')            # integers\n",
    "10., 1e-4, float('1.3')          # floats (default is float64)\n",
    "1 + 5j, complex(0, 1)            # complex"
   ]
  },
  {
   "cell_type": "code",
   "execution_count": null,
   "id": "7f7d4932",
   "metadata": {
    "slideshow": {
     "slide_type": "fragment"
    }
   },
   "outputs": [],
   "source": [
    "a = 10\n",
    "print(type(a))\n",
    "a = float(a)\n",
    "print(type(a))"
   ]
  },
  {
   "cell_type": "markdown",
   "id": "1ba54e12",
   "metadata": {
    "slideshow": {
     "slide_type": "subslide"
    }
   },
   "source": [
    "## Strings"
   ]
  },
  {
   "cell_type": "code",
   "execution_count": null,
   "id": "9f8ff4c5-0c9d-4969-9665-243f8be09655",
   "metadata": {
    "slideshow": {
     "slide_type": "fragment"
    }
   },
   "outputs": [],
   "source": [
    "'this is a string', \"this is also a 'string'\""
   ]
  },
  {
   "cell_type": "code",
   "execution_count": null,
   "id": "72bf632c",
   "metadata": {
    "slideshow": {
     "slide_type": "fragment"
    }
   },
   "outputs": [],
   "source": [
    "b = 10/6\n",
    "a = f'b is {b: .1f}'"
   ]
  },
  {
   "cell_type": "markdown",
   "id": "041b0196",
   "metadata": {
    "slideshow": {
     "slide_type": "subslide"
    }
   },
   "source": [
    "## Lists"
   ]
  },
  {
   "cell_type": "code",
   "execution_count": null,
   "id": "0bc7cc11",
   "metadata": {
    "slideshow": {
     "slide_type": "fragment"
    }
   },
   "outputs": [],
   "source": [
    "[1, 2, 3], ['a', 'b', 1], [ [1, 0], [0, 1, 1] ]"
   ]
  },
  {
   "cell_type": "code",
   "execution_count": null,
   "id": "1c0a2de1",
   "metadata": {
    "slideshow": {
     "slide_type": "fragment"
    }
   },
   "outputs": [],
   "source": [
    "a = ['a', 2, 1]\n",
    "a + [3, 4]\n",
    "#a.remove(1)\n",
    "# a.append(5)"
   ]
  },
  {
   "cell_type": "markdown",
   "id": "4611d5e2",
   "metadata": {
    "slideshow": {
     "slide_type": "subslide"
    }
   },
   "source": [
    "## Dictionaries"
   ]
  },
  {
   "cell_type": "code",
   "execution_count": null,
   "id": "90bae52e",
   "metadata": {
    "slideshow": {
     "slide_type": "fragment"
    }
   },
   "outputs": [],
   "source": [
    "{'a': 1, 'b': [0, 0, 1]}, dict(a=1, b=[0, 0, 0])"
   ]
  },
  {
   "cell_type": "code",
   "execution_count": null,
   "id": "ceb498ce",
   "metadata": {
    "slideshow": {
     "slide_type": "fragment"
    }
   },
   "outputs": [],
   "source": [
    "a = {'a': 1, 'b': 2}\n",
    "a.update({'c': 1, 'a': 0})\n",
    "a"
   ]
  },
  {
   "cell_type": "markdown",
   "id": "ca6853ba",
   "metadata": {
    "slideshow": {
     "slide_type": "subslide"
    }
   },
   "source": [
    "## Tuples"
   ]
  },
  {
   "cell_type": "code",
   "execution_count": null,
   "outputs": [],
   "source": [
    "a = ('a', 'b', 'c')"
   ],
   "metadata": {
    "collapsed": false
   }
  },
  {
   "cell_type": "markdown",
   "source": [
    "# Sets"
   ],
   "metadata": {
    "collapsed": false
   }
  },
  {
   "cell_type": "code",
   "execution_count": null,
   "id": "e5841140",
   "metadata": {
    "slideshow": {
     "slide_type": "fragment"
    }
   },
   "outputs": [],
   "source": [
    "a = {1, 2, 2, 3}\n",
    "b = {2, 3, 4}"
   ]
  },
  {
   "cell_type": "markdown",
   "id": "9e0f8fa5",
   "metadata": {
    "slideshow": {
     "slide_type": "slide"
    }
   },
   "source": [
    "# Operations"
   ]
  },
  {
   "cell_type": "markdown",
   "id": "8a014c6e",
   "metadata": {
    "slideshow": {
     "slide_type": "subslide"
    }
   },
   "source": [
    "## Number arithmetic"
   ]
  },
  {
   "cell_type": "code",
   "execution_count": null,
   "id": "bc0f88ec",
   "metadata": {
    "slideshow": {
     "slide_type": "fragment"
    }
   },
   "outputs": [],
   "source": [
    "1 * 1"
   ]
  },
  {
   "cell_type": "markdown",
   "id": "cd5dc98f",
   "metadata": {
    "slideshow": {
     "slide_type": "subslide"
    }
   },
   "source": [
    "## Logical"
   ]
  },
  {
   "cell_type": "code",
   "execution_count": null,
   "id": "aa0f6506",
   "metadata": {
    "slideshow": {
     "slide_type": "fragment"
    }
   },
   "outputs": [],
   "source": [
    "1 == 1, 2 > 1, 1 >= 1                       # all true\n",
    "1 == 1 and True, True or False, not False   # all true\n",
    "1 != 1, 1 < 1 < 2                           # all false"
   ]
  },
  {
   "cell_type": "markdown",
   "id": "6155fe5b",
   "metadata": {
    "slideshow": {
     "slide_type": "subslide"
    }
   },
   "source": [
    "## Lists"
   ]
  },
  {
   "cell_type": "code",
   "execution_count": null,
   "id": "9043017f",
   "metadata": {
    "slideshow": {
     "slide_type": "fragment"
    }
   },
   "outputs": [],
   "source": [
    "a = [1, 2, 3]"
   ]
  },
  {
   "cell_type": "markdown",
   "id": "ed2a90f2",
   "metadata": {
    "slideshow": {
     "slide_type": "slide"
    }
   },
   "source": [
    "# Control flows"
   ]
  },
  {
   "cell_type": "markdown",
   "id": "1a7de5f0",
   "metadata": {
    "slideshow": {
     "slide_type": "subslide"
    }
   },
   "source": [
    "## If statement"
   ]
  },
  {
   "cell_type": "code",
   "execution_count": null,
   "id": "58fa7a5c",
   "metadata": {
    "slideshow": {
     "slide_type": "fragment"
    }
   },
   "outputs": [],
   "source": [
    "a = 1\n",
    "if a < 1:\n",
    "    print(f'{a=} is < 1')\n",
    "    \n",
    "elif a in [1, 2, 3]:\n",
    "    print('x in [1, 2, 3]')\n",
    "    \n",
    "elif a not in [1, 2, 3]:\n",
    "    print('x not in [1, 2, 3]')\n",
    "\n",
    "else:\n",
    "    print('Anything else.. (not reachable in this case)')"
   ]
  },
  {
   "cell_type": "code",
   "execution_count": null,
   "id": "843bd571",
   "metadata": {
    "slideshow": {
     "slide_type": "fragment"
    }
   },
   "outputs": [],
   "source": [
    "a = [1, 2, 3]\n",
    "\n",
    "if isinstance(a, list):\n",
    "    print(a)"
   ]
  },
  {
   "cell_type": "markdown",
   "id": "ca726a55",
   "metadata": {
    "slideshow": {
     "slide_type": "subslide"
    }
   },
   "source": [
    "## For loops"
   ]
  },
  {
   "cell_type": "code",
   "execution_count": null,
   "id": "142b3b74",
   "metadata": {},
   "outputs": [],
   "source": [
    "for i in range(5):\n",
    "    print(i)"
   ]
  },
  {
   "cell_type": "code",
   "execution_count": null,
   "outputs": [],
   "source": [
    "a = ['a', 'b', 'c']\n",
    "b = [1, 2, 3]\n",
    "for value_a, value_b in zip(a, b):\n",
    "    print(value_a, value_b)"
   ],
   "metadata": {
    "collapsed": false
   }
  },
  {
   "cell_type": "code",
   "execution_count": null,
   "outputs": [],
   "source": [
    "print('first loop:')\n",
    "a = ['a', 'c', 'b']\n",
    "for i, value_a in enumerate(a):\n",
    "    print(i, value_a)\n",
    "\n",
    "print('second loop:')\n",
    "for value_a in reversed(a):\n",
    "    print(value_a)\n",
    "\n",
    "print('Third loop:')\n",
    "for value_a in sorted(a):\n",
    "    print(value_a)"
   ],
   "metadata": {
    "collapsed": false
   }
  },
  {
   "cell_type": "markdown",
   "id": "8c9916c2",
   "metadata": {
    "slideshow": {
     "slide_type": "subslide"
    }
   },
   "source": [
    "## List comprehension"
   ]
  },
  {
   "cell_type": "code",
   "execution_count": null,
   "id": "e85a234b",
   "metadata": {
    "slideshow": {
     "slide_type": "fragment"
    }
   },
   "outputs": [],
   "source": [
    "a = []\n",
    "for i in range(5):\n",
    "    if i > 2:\n",
    "        a.append(i)\n",
    "a"
   ]
  },
  {
   "cell_type": "markdown",
   "source": [
    "## Filters and maps"
   ],
   "metadata": {
    "collapsed": false
   }
  },
  {
   "cell_type": "code",
   "execution_count": null,
   "outputs": [],
   "source": [
    "list(filter(lambda x: x > 2, range(5)))"
   ],
   "metadata": {
    "collapsed": false
   }
  },
  {
   "cell_type": "markdown",
   "id": "3199d37b",
   "metadata": {
    "slideshow": {
     "slide_type": "slide"
    }
   },
   "source": [
    "## Functions and arguments unpacking"
   ]
  },
  {
   "cell_type": "code",
   "execution_count": null,
   "id": "a4aec70d",
   "metadata": {
    "slideshow": {
     "slide_type": "subslide"
    }
   },
   "outputs": [],
   "source": [
    "var = 'global'\n",
    "def sum_two_numbers(x, y):\n",
    "    var = 'local'\n",
    "    print(var)\n",
    "    return x + y"
   ]
  },
  {
   "cell_type": "code",
   "execution_count": null,
   "id": "841f0adc",
   "metadata": {
    "slideshow": {
     "slide_type": "fragment"
    }
   },
   "outputs": [],
   "source": [
    "sum_two_numbers(1, 2)\n",
    "print(var)"
   ]
  },
  {
   "cell_type": "markdown",
   "id": "19c21934",
   "metadata": {
    "slideshow": {
     "slide_type": "subslide"
    }
   },
   "source": [
    "## Classes and name spaces"
   ]
  },
  {
   "cell_type": "code",
   "execution_count": null,
   "id": "b0ec88c8",
   "metadata": {
    "slideshow": {
     "slide_type": "fragment"
    }
   },
   "outputs": [],
   "source": [
    "class Person:\n",
    "    def __init__(self, name: str = 'Bob', age: int = 18):\n",
    "        self.name = name\n",
    "        self.age = age\n",
    "        \n",
    "    def add_one_yer(self) -> None:\n",
    "        self.age += 1\n",
    "        \n",
    "bob = Person(name='Bob', age=20)\n",
    "bob.add_one_yer()\n",
    "bob.age"
   ]
  },
  {
   "cell_type": "markdown",
   "source": [
    "# Advanced Topics"
   ],
   "metadata": {
    "collapsed": false
   }
  },
  {
   "cell_type": "markdown",
   "source": [
    "## Annotations"
   ],
   "metadata": {
    "collapsed": false
   }
  },
  {
   "cell_type": "code",
   "execution_count": null,
   "outputs": [],
   "source": [
    "def add_two_numbers(x, y = 0):\n",
    "    return x + y\n",
    "\n",
    "add_two_numbers?"
   ],
   "metadata": {
    "collapsed": false
   }
  },
  {
   "cell_type": "markdown",
   "source": [
    "## Dunder Methods\n",
    "\"If it walks like a duck, and it quacks like a duck, then it must be a duck\""
   ],
   "metadata": {
    "collapsed": false
   }
  },
  {
   "cell_type": "code",
   "execution_count": null,
   "id": "b7f1faea",
   "metadata": {
    "scrolled": true,
    "slideshow": {
     "slide_type": "fragment"
    }
   },
   "outputs": [],
   "source": [
    "class Point2D:\n",
    "    def __init__(self, x, y):\n",
    "        self.x = x\n",
    "        self.y = y\n",
    "\n",
    "p1 = Point2D(0, 1)\n",
    "p2 = Point2D(1, 0)\n",
    "print(p1)"
   ]
  },
  {
   "cell_type": "markdown",
   "source": [
    "## Decorators and higher order functions"
   ],
   "metadata": {
    "collapsed": false
   }
  },
  {
   "cell_type": "code",
   "execution_count": null,
   "outputs": [],
   "source": [
    "import time\n",
    "def sum_two_numbers(x, y):\n",
    "    time.sleep(0.1)\n",
    "    return x + y\n",
    "\n",
    "sum_two_numbers(1, 2) # how long does this take?"
   ],
   "metadata": {
    "collapsed": false
   }
  },
  {
   "cell_type": "code",
   "execution_count": null,
   "outputs": [],
   "source": [
    "# this is a higher order function\n",
    "def timer(function, x, y):\n",
    "    timer = time.time()\n",
    "    res = function(x, y)\n",
    "    print(f'runtime {time.time() - timer: .2f}s')\n",
    "    return res\n",
    "\n",
    "timer(sum_two_numbers, 1, 2)"
   ],
   "metadata": {
    "collapsed": false
   }
  },
  {
   "cell_type": "code",
   "execution_count": null,
   "outputs": [],
   "source": [
    "# a decorator is just a function that returns another function\n",
    "def timer_decorator(function):\n",
    "    def new_function(*args, **kwargs):\n",
    "        timer = time.time()\n",
    "        res = function(*args, **kwargs)\n",
    "        print(f'runtime {time.time() - timer: .2f}s')\n",
    "        return res\n",
    "\n",
    "    return new_function\n",
    "\n"
   ],
   "metadata": {
    "collapsed": false
   }
  },
  {
   "cell_type": "markdown",
   "id": "dc1ae508",
   "metadata": {
    "slideshow": {
     "slide_type": "subslide"
    }
   },
   "source": [
    "## Inheritance and the **super** method"
   ]
  },
  {
   "cell_type": "code",
   "execution_count": null,
   "id": "af1c16fc",
   "metadata": {
    "slideshow": {
     "slide_type": "fragment"
    }
   },
   "outputs": [],
   "source": [
    "class Pet:\n",
    "    def __init__(self, name: str, age: int):\n",
    "        self.name = name\n",
    "        self.age = age\n",
    "        \n",
    "    def __repr__(self):\n",
    "        return f'{self.name} is a {self.age} years old'\n",
    "    \n",
    "class Dog(Pet):\n",
    "    def __repr__(self):\n",
    "        return f'{self.name} is a {self.age} years old Dog'"
   ]
  },
  {
   "cell_type": "code",
   "execution_count": null,
   "id": "4ec11af7",
   "metadata": {
    "slideshow": {
     "slide_type": "fragment"
    }
   },
   "outputs": [],
   "source": [
    "Dog('Whisky', age=1)"
   ]
  },
  {
   "cell_type": "code",
   "execution_count": null,
   "outputs": [],
   "source": [],
   "metadata": {
    "collapsed": false
   }
  }
 ],
 "metadata": {
  "celltoolbar": "Slideshow",
  "kernelspec": {
   "display_name": "Python 3 (ipykernel)",
   "language": "python",
   "name": "python3"
  },
  "language_info": {
   "codemirror_mode": {
    "name": "ipython",
    "version": 3
   },
   "file_extension": ".py",
   "mimetype": "text/x-python",
   "name": "python",
   "nbconvert_exporter": "python",
   "pygments_lexer": "ipython3",
   "version": "3.10.4"
  },
  "toc-showcode": false
 },
 "nbformat": 4,
 "nbformat_minor": 5
}
