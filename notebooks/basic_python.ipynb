{
 "cells": [
  {
   "cell_type": "markdown",
   "id": "9914ab23",
   "metadata": {
    "slideshow": {
     "slide_type": "slide"
    },
    "tags": [
     "0"
    ]
   },
   "source": [
    "# Basic Python cheat sheet"
   ]
  },
  {
   "cell_type": "code",
   "execution_count": null,
   "id": "bf8e807c",
   "metadata": {
    "slideshow": {
     "slide_type": "fragment"
    }
   },
   "outputs": [],
   "source": [
    "print(\"Hello World\")\n",
    "# or print multiple objects\n",
    "print(\"Hello\",  \"World\")\n",
    "# you can print any object\n",
    "print('1 + 2 =', 1 + 2)"
   ]
  },
  {
   "cell_type": "markdown",
   "id": "d23b05e6",
   "metadata": {
    "slideshow": {
     "slide_type": "slide"
    }
   },
   "source": [
    "## Basics of Jupyter"
   ]
  },
  {
   "cell_type": "markdown",
   "id": "5fd196d6",
   "metadata": {
    "slideshow": {
     "slide_type": "slide"
    }
   },
   "source": [
    "### shortcuts\n",
    "- `ctrl + enter` or `shift + enter`: run code in a cell or run and go down one cell\n",
    "- `ctrl + s`: save the notebook\n",
    "- `ctrl + shift + -`:  split the cell where the cursor is \n",
    "\n",
    "### magics\n",
    "- `something?`: shows the documentation of `something`\n",
    "- `%timeit`, `%time`: to check the run time of a line\n",
    "- `%%timeit`, `%%time`: to check the run time of a cell\n",
    "- `%load_ext autoreload; %autoreload 2`: if you want to work on a local python file\n",
    "\n",
    "if you have any doubts press `Tab` (for suggestions and autocomplete)"
   ]
  },
  {
   "cell_type": "code",
   "execution_count": null,
   "id": "4d0482f9",
   "metadata": {
    "slideshow": {
     "slide_type": "fragment"
    }
   },
   "outputs": [],
   "source": []
  },
  {
   "cell_type": "markdown",
   "id": "48418f6c",
   "metadata": {
    "slideshow": {
     "slide_type": "slide"
    }
   },
   "source": [
    "# Data Types"
   ]
  },
  {
   "cell_type": "markdown",
   "id": "b0dae582",
   "metadata": {
    "slideshow": {
     "slide_type": "subslide"
    }
   },
   "source": [
    "## Numbers"
   ]
  },
  {
   "cell_type": "code",
   "execution_count": null,
   "id": "4ac6a415",
   "metadata": {
    "slideshow": {
     "slide_type": "fragment"
    }
   },
   "outputs": [],
   "source": [
    "# 10, 10_000, int('10')            # integers\n",
    "# 10., 1e-4, float('1.3')          # floats (default is float64)\n",
    "# 1 + 5j, complex(0, 1)            # complex\n",
    "# True, False                      # bool"
   ]
  },
  {
   "cell_type": "code",
   "execution_count": null,
   "outputs": [],
   "source": [],
   "metadata": {
    "collapsed": false
   }
  },
  {
   "cell_type": "markdown",
   "source": [
    "# Implicit casting"
   ],
   "metadata": {
    "collapsed": false
   }
  },
  {
   "cell_type": "code",
   "execution_count": null,
   "outputs": [],
   "source": [
    "a = (1 * 2) + 2 - 10\n",
    "print('type of a', type(a))\n",
    "a = 4 / 2 # division always cast to float\n",
    "print('type of a', type(a))\n",
    "a, b = 4 // 2, 4 % 2 # quotient, remainder"
   ],
   "metadata": {
    "collapsed": false
   }
  },
  {
   "cell_type": "markdown",
   "source": [
    "# Explicit casting"
   ],
   "metadata": {
    "collapsed": false
   }
  },
  {
   "cell_type": "code",
   "execution_count": null,
   "id": "7f7d4932",
   "metadata": {
    "slideshow": {
     "slide_type": "fragment"
    }
   },
   "outputs": [],
   "source": [
    "a = 10\n",
    "print('type of a', type(a))\n",
    "a = float(a) # casting\n",
    "print('new type of a', type(a))\n",
    "\n",
    "a = float('1.') + float('1e0') + int('1') # you can cast strings"
   ]
  },
  {
   "cell_type": "markdown",
   "source": [
    "## Strings"
   ],
   "metadata": {
    "collapsed": false
   }
  },
  {
   "cell_type": "code",
   "execution_count": null,
   "outputs": [],
   "source": [
    "a, b = 'this is a string', \"this is also a 'string'\"\n",
    "# a + b\n",
    "# a.capitalize()\n",
    "# a.find('string')\n",
    "# a.split(' ')\n",
    "# ''.join(['hello', ' ', 'worl', 'd'])"
   ],
   "metadata": {
    "collapsed": false
   }
  },
  {
   "cell_type": "markdown",
   "source": [
    "## Formatted strings"
   ],
   "metadata": {
    "collapsed": false
   }
  },
  {
   "cell_type": "code",
   "execution_count": null,
   "outputs": [],
   "source": [
    "b = 10/6\n",
    "a = f'b is {b}'\n",
    "print(a)\n",
    "a = f'b is {b=:.2f}' # on newer python\n",
    "print(a)\n",
    "a = f'b is {10/6:.2f}' # on newer python\n",
    "print(a)"
   ],
   "metadata": {
    "collapsed": false
   }
  },
  {
   "cell_type": "markdown",
   "source": [
    "## Lists"
   ],
   "metadata": {
    "collapsed": false
   }
  },
  {
   "cell_type": "code",
   "execution_count": null,
   "outputs": [],
   "source": [
    "[1, 2, 3], ['a', 'b', 1], [ [1, 0], [0, 1, 1] ] # list of not homogeneous objects"
   ],
   "metadata": {
    "collapsed": false
   }
  },
  {
   "cell_type": "code",
   "execution_count": null,
   "outputs": [],
   "source": [
    "b = None\n",
    "a = ['a', 2, 1, 1]\n",
    "print(f'original list: {a}')\n",
    "# print('get item by index:', a[0])      # get an element by index\n",
    "# a[0] = 'b'                             # set an element by index\n",
    "# b = a + ['new', 'elements']            # create a new list joining the two lists\n",
    "# b = a.remove(1)                        # remove by value (first appearance only)\n",
    "# b = a.pop(0)                           # remove by index, and return the element removed\n",
    "# b = a.append(5)                        # add 5 to the end of the list\n",
    "# b = a.insert(1, 'aa')                  # insert 'aa' at index 1\n",
    "print(f'list: {a}, and returns {b=}')"
   ],
   "metadata": {
    "collapsed": false
   }
  },
  {
   "cell_type": "markdown",
   "source": [
    "### Indexing"
   ],
   "metadata": {
    "collapsed": false
   }
  },
  {
   "cell_type": "code",
   "execution_count": null,
   "outputs": [],
   "source": [
    "a = [1, 2, 3, 4, 5, 6]\n",
    "# a[0:3]\n",
    "# a[:3], a[3:]\n",
    "# a[-1]\n",
    "# a[:5:2]\n",
    "# a[::-1]"
   ],
   "metadata": {
    "collapsed": false
   }
  },
  {
   "cell_type": "markdown",
   "source": [
    "## Dictionaries"
   ],
   "metadata": {
    "collapsed": false
   }
  },
  {
   "cell_type": "code",
   "execution_count": null,
   "outputs": [],
   "source": [
    "{'a': 1, 'b': [0, 0, 1]}, dict(a=1, b=[0, 0, 0])"
   ],
   "metadata": {
    "collapsed": false
   }
  },
  {
   "cell_type": "code",
   "execution_count": null,
   "outputs": [],
   "source": [
    "a = {'a': 1, 'b': 2}\n",
    "value = a['a']\n",
    "print(\"value stored at 'a': \", value)   # get the value from a key\n",
    "# a['c'] = 3                              # set a new value\n",
    "# a.update({'d': 1, 'a': 0})              # merge two dictionary and update existing keys\n",
    "print('updated dict ', a)"
   ],
   "metadata": {
    "collapsed": false
   }
  },
  {
   "cell_type": "markdown",
   "source": [
    "## Tuples (kinda of like lists, but immutable)"
   ],
   "metadata": {
    "collapsed": false
   }
  },
  {
   "cell_type": "code",
   "execution_count": null,
   "outputs": [],
   "source": [
    "a = ('a', 'b', 'c')\n",
    "# print('get item by index:', a[0])      # get an element by index\n",
    "# a[0] = 'b'                             # you can't mutate tuples (this will fail)\n",
    "# a + a                                  # create a new tuple joining the two tuples"
   ],
   "metadata": {
    "collapsed": false
   }
  },
  {
   "cell_type": "markdown",
   "source": [
    "## Sets (behave like mathematical sets)"
   ],
   "metadata": {
    "collapsed": false
   }
  },
  {
   "cell_type": "code",
   "execution_count": null,
   "outputs": [],
   "source": [
    "a = {1, 2, 2, 3}\n",
    "b = {2, 3, 4}\n",
    "# a.union(b)\n",
    "# a.intersection(b)\n",
    "# a.difference(b)\n",
    "# a.issubset(b)"
   ],
   "metadata": {
    "collapsed": false
   }
  },
  {
   "cell_type": "markdown",
   "id": "cd5dc98f",
   "metadata": {
    "slideshow": {
     "slide_type": "subslide"
    }
   },
   "source": [
    "## Logical operations"
   ]
  },
  {
   "cell_type": "code",
   "execution_count": null,
   "id": "aa0f6506",
   "metadata": {
    "slideshow": {
     "slide_type": "fragment"
    }
   },
   "outputs": [],
   "source": [
    "1 == 1, 2 > 1, 1 >= 1                               # all true\n",
    "1 == 1 and True, True or False, not False           # all true\n",
    "1 != 1, 1 < 1 < 2                                   # all false\n",
    "isinstance(1, int), hasattr([1, 2, 3], 'append')    # all true"
   ]
  },
  {
   "cell_type": "code",
   "execution_count": null,
   "outputs": [],
   "source": [],
   "metadata": {
    "collapsed": false
   }
  },
  {
   "cell_type": "markdown",
   "id": "ed2a90f2",
   "metadata": {
    "slideshow": {
     "slide_type": "slide"
    }
   },
   "source": [
    "# Control flows"
   ]
  },
  {
   "cell_type": "markdown",
   "id": "1a7de5f0",
   "metadata": {
    "slideshow": {
     "slide_type": "subslide"
    }
   },
   "source": [
    "## If statement"
   ]
  },
  {
   "cell_type": "code",
   "execution_count": null,
   "id": "58fa7a5c",
   "metadata": {
    "slideshow": {
     "slide_type": "fragment"
    }
   },
   "outputs": [],
   "source": [
    "a = 1\n",
    "if a < 1:\n",
    "    print(f'{a=} is < 1')\n",
    "    \n",
    "elif a in [1, 2, 3]:\n",
    "    print('a in [1, 2, 3]')\n",
    "    \n",
    "elif a not in [1, 2, 3]:\n",
    "    print('a not in [1, 2, 3]')\n",
    "\n",
    "else:\n",
    "    print('Anything else.. (not reachable in this case)')"
   ]
  },
  {
   "cell_type": "code",
   "execution_count": null,
   "id": "843bd571",
   "metadata": {
    "slideshow": {
     "slide_type": "fragment"
    }
   },
   "outputs": [],
   "source": [
    "a = [1, 2, 3]\n",
    "if isinstance(a, list):\n",
    "    print(a)\n",
    "\n",
    "# a = []\n",
    "if a:\n",
    "    print('a is not empty')\n",
    "else:\n",
    "    print('a is empty')\n",
    "\n",
    "# same is true for tuple dictionary etc.."
   ]
  },
  {
   "cell_type": "markdown",
   "id": "ca726a55",
   "metadata": {
    "slideshow": {
     "slide_type": "subslide"
    }
   },
   "source": [
    "## For loops"
   ]
  },
  {
   "cell_type": "code",
   "execution_count": null,
   "id": "142b3b74",
   "metadata": {},
   "outputs": [],
   "source": [
    "for i in range(5):\n",
    "    print(i)"
   ]
  },
  {
   "cell_type": "code",
   "execution_count": null,
   "outputs": [],
   "source": [
    "a = ['a', 'b', 'c']\n",
    "print('length of a:', len(a))\n",
    "\n",
    "for i in range(len(a)):\n",
    "    print(a[i])\n",
    "\n",
    "\"\"\"\n",
    "for value_a in a:\n",
    "    print(value_a)\n",
    "\"\"\""
   ],
   "metadata": {
    "collapsed": false
   }
  },
  {
   "cell_type": "code",
   "execution_count": null,
   "id": "1a57741c",
   "metadata": {},
   "outputs": [],
   "source": [
    "a = ['a', 'c', 'b']\n",
    "\n",
    "print('First loop: enumerate')\n",
    "for i, value_a in enumerate(a):\n",
    "    print(i, value_a)\n",
    "\n",
    "print('Second loop: reversed')\n",
    "for value_a in reversed(a):\n",
    "    print(value_a)\n",
    "\n",
    "print('Third loop: sorted')\n",
    "for value_a in sorted(a):\n",
    "    print(value_a)\n",
    "\n",
    "print('Forth loop: zip')\n",
    "a = ['a', 'b', 'c']\n",
    "b = [1, 2, 3]\n",
    "for value_a, value_b in zip(a, b):\n",
    "    print(value_a, value_b)"
   ]
  },
  {
   "cell_type": "code",
   "execution_count": null,
   "outputs": [],
   "source": [
    "a = {'a': 0, 'c': 1, 'b': 2}\n",
    "print('First loop: over keys')\n",
    "for key in a: #or a.keys()\n",
    "    print(key)\n",
    "\n",
    "print('Second loop: over values')\n",
    "for value in a.values():\n",
    "    print(value)\n",
    "\n",
    "print('Third loop: over key-values pairs')\n",
    "for key, value in a.items():\n",
    "    print(f'{key}: {value}')"
   ],
   "metadata": {
    "collapsed": false
   }
  },
  {
   "cell_type": "markdown",
   "id": "8c9916c2",
   "metadata": {
    "slideshow": {
     "slide_type": "subslide"
    }
   },
   "source": [
    "## List comprehension"
   ]
  },
  {
   "cell_type": "code",
   "execution_count": null,
   "id": "e85a234b",
   "metadata": {
    "slideshow": {
     "slide_type": "fragment"
    }
   },
   "outputs": [],
   "source": [
    "# correct but not 'pythonic'\n",
    "a = []\n",
    "for i in range(5):\n",
    "    if i > 2:\n",
    "        a.append(i)\n",
    "\n",
    "\n",
    "# a = [i**2 for i in range(5) if i > 2]\n",
    "# a = [i for i in range(5) if i > 2]\n",
    "print(a)"
   ]
  },
  {
   "cell_type": "markdown",
   "source": [
    "## Functions"
   ],
   "metadata": {
    "collapsed": false
   }
  },
  {
   "cell_type": "code",
   "execution_count": null,
   "outputs": [],
   "source": [
    "def sum_two_numbers(x, y=1):\n",
    "    return x + y\n",
    "\n",
    "sum_two_numbers(0, 2), sum_two_numbers(0), sum_two_numbers(0, y=2), sum_two_numbers(x=1, y=3), sum_two_numbers(y=3, x=0)\n",
    "# sum_two_numbers(x=0, 2) #invalid!!!"
   ],
   "metadata": {
    "collapsed": false
   }
  },
  {
   "cell_type": "markdown",
   "id": "19c21934",
   "metadata": {
    "slideshow": {
     "slide_type": "subslide"
    }
   },
   "source": [
    "## Classes"
   ]
  },
  {
   "cell_type": "code",
   "execution_count": null,
   "id": "b0ec88c8",
   "metadata": {
    "slideshow": {
     "slide_type": "fragment"
    }
   },
   "outputs": [],
   "source": [
    "class Person:\n",
    "    def __init__(self, name = 'Bob', age = 18):\n",
    "        self.name = name\n",
    "        self.age = age\n",
    "        \n",
    "    def add_one_yer(self):\n",
    "        self.age += 1\n",
    "\n",
    "bob = Person(name='Bob', age=20)\n",
    "bob.add_one_yer()\n",
    "bob.age"
   ]
  },
  {
   "cell_type": "markdown",
   "source": [
    "## Packages"
   ],
   "metadata": {
    "collapsed": false
   }
  },
  {
   "cell_type": "code",
   "execution_count": null,
   "outputs": [],
   "source": [
    "import time\n",
    "time.sleep(0.1)\n",
    "\n",
    "from time import sleep\n",
    "sleep(0.1)\n",
    "\n",
    "from time import sleep as sleep2\n",
    "sleep2(0.1)\n",
    "\n",
    "# Ps python standard library is awesome! Some of my favourite imports\n",
    "# import pathlib\n",
    "# import functools\n",
    "# import itertools\n",
    "# import dataclasses"
   ],
   "metadata": {
    "collapsed": false
   }
  },
  {
   "cell_type": "markdown",
   "id": "fc02f440",
   "metadata": {},
   "source": [
    "# Advanced Topics (demystify python)"
   ]
  },
  {
   "cell_type": "markdown",
   "source": [
    "## Functions (and scopes)"
   ],
   "metadata": {
    "collapsed": false
   }
  },
  {
   "cell_type": "code",
   "execution_count": null,
   "outputs": [],
   "source": [
    "var = 'global'\n",
    "def sum_two_numbers(x, y):\n",
    "    var = 'local'\n",
    "    print(var)\n",
    "    return x + y\n",
    "\n",
    "sum_two_numbers(1, 2)\n",
    "print(var)"
   ],
   "metadata": {
    "collapsed": false
   }
  },
  {
   "cell_type": "markdown",
   "source": [
    "## Filters and maps"
   ],
   "metadata": {
    "collapsed": false
   }
  },
  {
   "cell_type": "code",
   "execution_count": null,
   "outputs": [],
   "source": [
    "anonymous_function = lambda x: x + 1                         # for simple function where is not necessary to allocate a name, you can use lambda functions\n",
    "# print(list(map(lambda x: x ** 2, range(5))))               # map a lambda function over an iterable\n",
    "# print(list(filter(lambda x: x > 2, [0, 1, 3, 4, 5, 6])))   # filter an iterable according to a lambda function (must return a bool)"
   ],
   "metadata": {
    "collapsed": false
   }
  },
  {
   "cell_type": "markdown",
   "source": [
    "## Generators"
   ],
   "metadata": {
    "collapsed": false
   }
  },
  {
   "cell_type": "code",
   "execution_count": null,
   "outputs": [],
   "source": [
    "# there a thousand of ways to build iterables and generators, and you can build your own\n",
    "\n",
    "def my_iterable(n):\n",
    "    for i in range(n):\n",
    "        print(' - before the for-loop body')\n",
    "        yield i\n",
    "        print(' - after the for-loop body\\n')\n",
    "\n",
    "    print('This will be executed at the end')\n",
    "\n",
    "for i in my_iterable(3):\n",
    "    print('current value', i)"
   ],
   "metadata": {
    "collapsed": false
   }
  },
  {
   "cell_type": "markdown",
   "id": "2d6154b3",
   "metadata": {},
   "source": [
    "## Annotations"
   ]
  },
  {
   "cell_type": "code",
   "execution_count": null,
   "id": "a60248e7",
   "metadata": {},
   "outputs": [],
   "source": [
    "def add_two_numbers(x, y = 0):\n",
    "    return x + y\n",
    "\n",
    "add_two_numbers?"
   ]
  },
  {
   "cell_type": "markdown",
   "id": "00ffed0a",
   "metadata": {},
   "source": [
    "## Dunder Methods\n",
    "\"If it walks like a duck, and it quacks like a duck, then it must be a duck\""
   ]
  },
  {
   "cell_type": "code",
   "execution_count": null,
   "id": "b7f1faea",
   "metadata": {
    "scrolled": true,
    "slideshow": {
     "slide_type": "fragment"
    }
   },
   "outputs": [],
   "source": [
    "class Point2D:\n",
    "    def __init__(self, x, y):\n",
    "        self.x = x\n",
    "        self.y = y\n",
    "\n",
    "p1 = Point2D(0, 1)\n",
    "p2 = Point2D(1, 0)\n",
    "print(p1)"
   ]
  },
  {
   "cell_type": "markdown",
   "id": "c3245539",
   "metadata": {},
   "source": [
    "## Decorators and higher order functions"
   ]
  },
  {
   "cell_type": "code",
   "execution_count": null,
   "id": "255e658c",
   "metadata": {},
   "outputs": [],
   "source": [
    "import time\n",
    "def sum_two_numbers(x, y):\n",
    "    time.sleep(0.1)\n",
    "    return x + y\n",
    "\n",
    "sum_two_numbers(1, 2) # how long does this take?"
   ]
  },
  {
   "cell_type": "code",
   "execution_count": null,
   "id": "84c13cf7",
   "metadata": {},
   "outputs": [],
   "source": [
    "# this is a higher order function (function that takes another function as an argument)\n",
    "def timer(function, x, y):\n",
    "    timer = time.time()\n",
    "    res = function(x, y)\n",
    "    print(f'runtime {time.time() - timer: .2f}s')\n",
    "    return res\n",
    "\n",
    "timer(sum_two_numbers, 1, 2)"
   ]
  },
  {
   "cell_type": "code",
   "execution_count": null,
   "id": "e46be205",
   "metadata": {},
   "outputs": [],
   "source": [
    "# a decorator is just a function that returns another function\n",
    "def timer_decorator(function):\n",
    "    def new_function(*args, **kwargs):\n",
    "        timer = time.time()\n",
    "        res = function(*args, **kwargs)\n",
    "        print(f'runtime {time.time() - timer: .2f}s')\n",
    "        return res\n",
    "\n",
    "    return new_function\n",
    "\n",
    "@timer_decorator\n",
    "def sum_two_numbers(x, y):\n",
    "    time.sleep(0.1)\n",
    "    return x + y\n",
    "\n",
    "sum_two_numbers(1, 2)"
   ]
  },
  {
   "cell_type": "markdown",
   "id": "dc1ae508",
   "metadata": {
    "slideshow": {
     "slide_type": "subslide"
    }
   },
   "source": [
    "## Inheritance and the **super** method"
   ]
  },
  {
   "cell_type": "code",
   "execution_count": null,
   "id": "af1c16fc",
   "metadata": {
    "slideshow": {
     "slide_type": "fragment"
    }
   },
   "outputs": [],
   "source": [
    "class Pet:\n",
    "    def __init__(self, name: str, age: int):\n",
    "        self.name = name\n",
    "        self.age = age\n",
    "        \n",
    "    def __repr__(self):\n",
    "        return f'{self.name} is a {self.age} years old pet.'\n",
    "    \n",
    "class Dog(Pet):\n",
    "    ...\n",
    "\n",
    "Dog('Whisky', age=1)"
   ]
  }
 ],
 "metadata": {
  "celltoolbar": "Slideshow",
  "kernelspec": {
   "display_name": "Python 3 (ipykernel)",
   "language": "python",
   "name": "python3"
  },
  "language_info": {
   "codemirror_mode": {
    "name": "ipython",
    "version": 3
   },
   "file_extension": ".py",
   "mimetype": "text/x-python",
   "name": "python",
   "nbconvert_exporter": "python",
   "pygments_lexer": "ipython3",
   "version": "3.9.13"
  },
  "toc-showcode": false
 },
 "nbformat": 4,
 "nbformat_minor": 5
}
