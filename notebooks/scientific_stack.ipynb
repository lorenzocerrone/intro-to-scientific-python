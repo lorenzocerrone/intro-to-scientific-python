{
 "cells": [
  {
   "cell_type": "markdown",
   "id": "4ad79deb",
   "metadata": {},
   "source": [
    "# Numpy"
   ]
  },
  {
   "cell_type": "code",
   "execution_count": null,
   "outputs": [],
   "source": [
    "import numpy as np"
   ],
   "metadata": {
    "collapsed": false
   }
  },
  {
   "cell_type": "markdown",
   "source": [
    "## Nd-arrays"
   ],
   "metadata": {
    "collapsed": false
   }
  },
  {
   "cell_type": "code",
   "execution_count": null,
   "outputs": [],
   "source": [
    "x = np.array([1, 2, 3, 4, 5, 6])\n",
    "print(x)"
   ],
   "metadata": {
    "collapsed": false
   }
  },
  {
   "cell_type": "markdown",
   "source": [
    "## Useful attributes and methods"
   ],
   "metadata": {
    "collapsed": false
   }
  },
  {
   "cell_type": "code",
   "execution_count": null,
   "outputs": [],
   "source": [
    "a = np.array([1., 2., 3., 4., 5., 6.])\n",
    "\n",
    "# a = a.reshape(3, 2)\n",
    "# a = a.astype('int64')\n",
    "print(a)\n",
    "print(f'shape: {a.shape}, size: {a.size}, n-d: {a.ndim}, type: {a.dtype}')\n",
    "# a.astype('int64')\n",
    "# a.max(), a.min(), a.argmax()\n",
    "# a.sum(), a.mean(), a.std()"
   ],
   "metadata": {
    "collapsed": false
   }
  },
  {
   "cell_type": "code",
   "execution_count": null,
   "outputs": [],
   "source": [],
   "metadata": {
    "collapsed": false
   }
  },
  {
   "cell_type": "markdown",
   "source": [
    "## Indexing"
   ],
   "metadata": {
    "collapsed": false
   }
  },
  {
   "cell_type": "code",
   "execution_count": null,
   "outputs": [],
   "source": [
    "a = np.array([1, 2, 3, 4, 5, 6, 7, 8, 9]).reshape(3, 3)\n",
    "print(f'matrix: \\n{a}')\n",
    "print('row 0:', a[0])    # get fist axis\n",
    "print('col 0:', a[:, 0]) # get second axis"
   ],
   "metadata": {
    "collapsed": false
   }
  },
  {
   "cell_type": "code",
   "execution_count": null,
   "outputs": [],
   "source": [
    "a = np.array([1, 2, 3, 4, 5, 6, 7, 8, 9])\n",
    "# print(a[[0, 1, 3]])      # get elements by list of indices\n",
    "# print(a[0:5:2])          # get elements from index 0 to index 5 in steps of 2\n",
    "# print(a[::-1])           # reverse the array\n",
    "# print(a[-1])             # get the last element"
   ],
   "metadata": {
    "collapsed": false
   }
  },
  {
   "cell_type": "markdown",
   "id": "f7d744e1",
   "metadata": {},
   "source": [
    "## Arrays initialization"
   ]
  },
  {
   "cell_type": "code",
   "execution_count": null,
   "id": "1b52d4e0-1d2c-4bc4-8ac1-7daa8e08852e",
   "metadata": {},
   "outputs": [],
   "source": [
    "a = np.zeros((3, 3))\n",
    "print(a)\n",
    "\n",
    "a = np.ones((3, 3))\n",
    "print(a)\n",
    "\n",
    "a = np.full((3, 3), 5.)\n",
    "print(a)\n",
    "\n",
    "a = np.zeros_like(a)\n",
    "print(a)"
   ]
  },
  {
   "cell_type": "markdown",
   "source": [
    "## More array initializations"
   ],
   "metadata": {
    "collapsed": false
   }
  },
  {
   "cell_type": "code",
   "execution_count": null,
   "id": "f402acd0-5647-4a2d-9e02-46fd6d18cf8e",
   "metadata": {},
   "outputs": [],
   "source": [
    "a = np.random.rand(5)\n",
    "print(a)\n",
    "a = np.arange(0, 1, 0.2)\n",
    "print(a)\n",
    "a = np.linspace(0, 1, 5)\n",
    "print(a)\n",
    "a = np.logspace(0, 3, 5)   # initialize an array of size 5 between 10**0 and 10**3\n",
    "print(a)"
   ]
  },
  {
   "cell_type": "markdown",
   "source": [
    "## Ufunc (universal functions)"
   ],
   "metadata": {
    "collapsed": false
   }
  },
  {
   "cell_type": "code",
   "execution_count": null,
   "outputs": [],
   "source": [
    "a = [1, 1, 1]\n",
    "print([a_i * 2 + 0.5 for a_i in a]) # how to apply arithmetic operations element wise on lists\n",
    "\n",
    "\n",
    "# ufunc are functions applied element wise to numpy arrays\n",
    "a = np.array([1, 1, 1])\n",
    "b = a * 2 + 0.5                       # all arithmetic operations are ufunc\n",
    "# b = np.add(np.multiply(a, 2), 0.5)  # this is what happens under the hood\n",
    "print(b)"
   ],
   "metadata": {
    "collapsed": false
   }
  },
  {
   "cell_type": "code",
   "execution_count": null,
   "outputs": [],
   "source": [
    "a = list(range(1_000_000))\n",
    "%timeit [np.log(a_i * 2 + 0.5) for a_i in a]\n",
    "\n",
    "np_a = np.array(a)\n",
    "%timeit np.log(np_a * 2 + 0.5)"
   ],
   "metadata": {
    "collapsed": false
   }
  },
  {
   "cell_type": "markdown",
   "source": [
    "## There are a lot of built-in ufunc"
   ],
   "metadata": {
    "collapsed": false
   }
  },
  {
   "cell_type": "code",
   "execution_count": null,
   "outputs": [],
   "source": [
    "a = np.array([0.25, 0.5, 0.75])\n",
    "np.sin(a), np.log(a), np.exp(a)"
   ],
   "metadata": {
    "collapsed": false
   }
  },
  {
   "cell_type": "markdown",
   "source": [
    "## array - array operations"
   ],
   "metadata": {
    "collapsed": false
   }
  },
  {
   "cell_type": "code",
   "execution_count": null,
   "outputs": [],
   "source": [
    "a = np.random.rand(3)\n",
    "b = np.random.rand(3)\n",
    "print('vector 1', a)\n",
    "print('vector 2', b)\n",
    "\n",
    "# print('a + b', a + b)\n",
    "# print('a * b', a * np.zeros_like(b))\n",
    "# print(np.dot(a, b), a.dot(b), np.sum(a * b))"
   ],
   "metadata": {
    "collapsed": false
   }
  },
  {
   "cell_type": "markdown",
   "source": [
    "# Reductions (and accumulations)"
   ],
   "metadata": {
    "collapsed": false
   }
  },
  {
   "cell_type": "code",
   "execution_count": null,
   "outputs": [],
   "source": [
    "a = np.arange(9).reshape(3, 3)\n",
    "print(a)\n",
    "print(np.mean(a), np.sum(a))\n",
    "print(f'mean over col: {np.mean(a, axis=0)}')\n",
    "print(f'mean over row: {np.mean(a, axis=1)}')"
   ],
   "metadata": {
    "collapsed": false
   }
  },
  {
   "cell_type": "code",
   "execution_count": null,
   "outputs": [],
   "source": [
    "a = np.arange(9)\n",
    "print(a)\n",
    "print(np.cumsum(a)) # this is not a reduction is an accumulation*"
   ],
   "metadata": {
    "collapsed": false
   }
  },
  {
   "cell_type": "markdown",
   "source": [
    "# The true power of ufunc..."
   ],
   "metadata": {
    "collapsed": false
   }
  },
  {
   "cell_type": "code",
   "execution_count": null,
   "outputs": [],
   "source": [
    "a = np.arange(9).reshape(3, 3)\n",
    "\n",
    "print(np.add.reduce(a, axis=(0, 1))) # equivalent to np.sum\n",
    "\n",
    "print(np.add.accumulate(a, axis=1))  # equivalent to np.cumsum\n",
    "\n",
    "print(np.multiply.outer(np.ones(3), np.ones(3))) # equivalent to np.dot(np.ones(3)[:, None], np.ones(3)[None, :])"
   ],
   "metadata": {
    "collapsed": false
   }
  },
  {
   "cell_type": "markdown",
   "source": [
    "## Broadcasting"
   ],
   "metadata": {
    "collapsed": false
   }
  },
  {
   "cell_type": "code",
   "execution_count": null,
   "outputs": [],
   "source": [
    "x = np.zeros(10)\n",
    "x[None, :, np.newaxis].shape # np.newaxis or None are the same"
   ],
   "metadata": {
    "collapsed": false
   }
  },
  {
   "cell_type": "code",
   "execution_count": null,
   "outputs": [],
   "source": [
    "x = np.array([1, 2, 3])\n",
    "x * 0.1 # thanks to broadcasting => [x_0 * 0.1, x_1 * 0.1, x_2 * 0.1]"
   ],
   "metadata": {
    "collapsed": false
   }
  },
  {
   "cell_type": "markdown",
   "source": [
    "for more info https://numpy.org/doc/stable/user/basics.broadcasting.html"
   ],
   "metadata": {
    "collapsed": false
   }
  },
  {
   "cell_type": "markdown",
   "source": [
    "## Broadcasting example: mean distance between N points and a point in $\\mathbb{R}^3$"
   ],
   "metadata": {
    "collapsed": false
   }
  },
  {
   "cell_type": "code",
   "execution_count": null,
   "outputs": [],
   "source": [
    "x = np.random.rand(10, 3) # shape (10, 3)\n",
    "x0 = np.array([0.5, 0.5, 0.5]) # shape (3, )\n",
    "\n",
    "# average l2 distance  = 1/N * sum_i sqrt(sum_j (x_ij - x0_j)**2))\n",
    "\n",
    "diff = x - x0                             # numpy does this implicitly -> x - x0[None, :]\n",
    "square = diff ** 2                        # ufunc shape (10, 3)\n",
    "l2_squared = np.sum(square, axis=1)       # reduction over the second axis: shape (10, 3) -> shape (10, )\n",
    "l2 = np.sqrt(l2_squared)                  # ufunc shape (10, )\n",
    "average_l2 = np.mean(l2)                  # reduction over the first axis: shape (10, ) -> shape (1, )\n",
    "\n",
    "print(average_l2)"
   ],
   "metadata": {
    "collapsed": false
   }
  },
  {
   "cell_type": "code",
   "execution_count": null,
   "outputs": [],
   "source": [
    "x = np.random.rand(10, 3)        # shape (10, 3)\n",
    "x0 = np.array([[0.5, 0.5, 0.5],      # shape (2, 3)\n",
    "               [0, 0, 0]])\n",
    "\n",
    "# print(np.mean(np.sqrt(np.sum((x - x0)**2, axis=1)))) #this will fail, can you fix it?"
   ],
   "metadata": {
    "collapsed": false
   }
  },
  {
   "cell_type": "markdown",
   "source": [
    "# Random numbers"
   ],
   "metadata": {
    "collapsed": false
   }
  },
  {
   "cell_type": "code",
   "execution_count": null,
   "outputs": [],
   "source": [
    "# np.seed(0)\n",
    "a = np.random.rand()          # uniform 0-1\n",
    "# a = np.random.randn()         # gaussian dist. mean 0 std 1\n",
    "# a = np.random.randint(0, 3)   # random integer\n",
    "# a = np.random.randint(3, size=(3, 3))\n",
    "\n",
    "# list_x = ['a', 'b', 'c', 'd', 'e']\n",
    "# a = np.random.choice(list_x, size=3, replace=False)\n",
    "print(a)"
   ],
   "metadata": {
    "collapsed": false
   }
  },
  {
   "cell_type": "markdown",
   "source": [
    "## Advanced indexing and masking"
   ],
   "metadata": {
    "collapsed": false
   }
  },
  {
   "cell_type": "code",
   "execution_count": null,
   "outputs": [],
   "source": [
    "x  = np.random.rand(5)\n",
    "print('random array', x)\n",
    "mask = x > 0.5\n",
    "print('mask', mask)\n",
    "print('filter using mask', x[mask])"
   ],
   "metadata": {
    "collapsed": false
   }
  },
  {
   "cell_type": "code",
   "execution_count": null,
   "outputs": [],
   "source": [
    "x  = np.random.rand(5)\n",
    "print('random array', x)\n",
    "\n",
    "indices = np.where(x > 0.5)\n",
    "print('indices where condition is true', indices)\n",
    "print(x[indices])\n",
    "\n",
    "# print('np.where can be use to substitute the elements', np.where(x > 0.5, 1, x))"
   ],
   "metadata": {
    "collapsed": false
   }
  },
  {
   "cell_type": "markdown",
   "source": [
    "## Numpy linalg"
   ],
   "metadata": {
    "collapsed": false
   }
  },
  {
   "cell_type": "code",
   "execution_count": null,
   "outputs": [],
   "source": [
    "matrix = np.random.rand(3, 3)"
   ],
   "metadata": {
    "collapsed": false
   }
  },
  {
   "cell_type": "code",
   "execution_count": null,
   "outputs": [],
   "source": [
    "eig, eigenvectors = np.linalg.eig(matrix)\n",
    "print('matrix eigenvalues', eig)\n",
    "print('matrix eigenvectors:\\n', eigenvectors)"
   ],
   "metadata": {
    "collapsed": false
   }
  },
  {
   "cell_type": "code",
   "execution_count": null,
   "outputs": [],
   "source": [
    "print('matrix inverse:\\n', np.linalg.inv(matrix))"
   ],
   "metadata": {
    "collapsed": false
   }
  },
  {
   "cell_type": "code",
   "execution_count": null,
   "outputs": [],
   "source": [
    "print('check result\"\\n', np.matmul(np.linalg.inv(matrix), matrix))"
   ],
   "metadata": {
    "collapsed": false
   }
  },
  {
   "cell_type": "code",
   "execution_count": null,
   "outputs": [],
   "source": [
    "u, v, w = np.linalg.svd(matrix) # singular value decomposition"
   ],
   "metadata": {
    "collapsed": false
   }
  },
  {
   "cell_type": "markdown",
   "source": [
    "# numpy i/o"
   ],
   "metadata": {
    "collapsed": false
   }
  },
  {
   "cell_type": "code",
   "execution_count": null,
   "outputs": [],
   "source": [
    "np.save('test.npy', matrix)\n",
    "print(np.load('test.npy'))"
   ],
   "metadata": {
    "collapsed": false
   }
  },
  {
   "cell_type": "markdown",
   "id": "86ac83c0",
   "metadata": {},
   "source": [
    "# Matplotlib"
   ]
  },
  {
   "cell_type": "markdown",
   "source": [
    "## Simple plot"
   ],
   "metadata": {
    "collapsed": false
   }
  },
  {
   "cell_type": "code",
   "execution_count": null,
   "id": "700291fb",
   "metadata": {
    "tags": []
   },
   "outputs": [],
   "source": [
    "import matplotlib.pyplot as plt"
   ]
  },
  {
   "cell_type": "code",
   "execution_count": null,
   "id": "62dd5e55-c49b-4737-8fae-e4500ffc6265",
   "metadata": {},
   "outputs": [],
   "source": [
    "x = np.arange(0, 12, 0.1)\n",
    "y = np.sin(x)\n",
    "\n",
    "plt.plot(x, y)\n",
    "plt.show()"
   ]
  },
  {
   "cell_type": "code",
   "execution_count": null,
   "outputs": [],
   "source": [
    "plt.figure(figsize=(10, 5))\n",
    "plt.title('Sin(x)')\n",
    "\n",
    "plt.plot(x, y, c=np.random.rand(3), label='line')\n",
    "plt.scatter(x[::10], y[::10], label='scatter')\n",
    "\n",
    "plt.legend()\n",
    "plt.xlabel('x')\n",
    "plt.ylabel('sin(x)')\n",
    "plt.show()\n"
   ],
   "metadata": {
    "collapsed": false
   }
  },
  {
   "cell_type": "code",
   "execution_count": null,
   "id": "f8c76c1b-946a-42c7-8d38-6311972bdac7",
   "metadata": {},
   "outputs": [],
   "source": [
    "x = np.arange(0, 12, 0.1)\n",
    "x2 = np.linspace(-1, 3)\n",
    "e = np.exp(x2)\n",
    "\n",
    "fig, axes = plt.subplots(2, 2, figsize=(10, 10))\n",
    "axes[0, 0].plot(x, np.sin(x))\n",
    "axes[0, 0].set_ylabel('sin(x)', fontsize=15)\n",
    "\n",
    "axes[0, 1].plot(x, np.cos(x))\n",
    "axes[0, 1].set_ylabel('cos(x)', fontsize=15)\n",
    "\n",
    "axes[1, 0].plot(x2, e)\n",
    "axes[1, 0].set_ylabel('exp(x)', fontsize=15)\n",
    "axes[1, 1].semilogy(x2, e)\n",
    "\n",
    "axes[1, 0].set_xlabel('x', fontsize=15)\n",
    "axes[1, 1].set_xlabel('x', fontsize=15)\n",
    "\n",
    "plt.tight_layout()\n",
    "plt.show()"
   ]
  },
  {
   "cell_type": "markdown",
   "source": [
    "# Heatmaps"
   ],
   "metadata": {
    "collapsed": false
   }
  },
  {
   "cell_type": "code",
   "execution_count": null,
   "id": "f67dbba1",
   "metadata": {
    "tags": []
   },
   "outputs": [],
   "source": [
    "# create a grid\n",
    "x, y = np.arange(-1, 1, 0.01), np.arange(-1, 1, 0.01)\n",
    "\n",
    "\"\"\"\n",
    "(-1, -1)......(-1, 1)\n",
    ".\n",
    ".\n",
    ".\n",
    "(1, -1) .......(1, 1)\n",
    "\"\"\"\n",
    "\n",
    "xx, yy = np.meshgrid(x, y)\n",
    "zz = np.exp(- xx**2 - yy**2)"
   ]
  },
  {
   "cell_type": "code",
   "execution_count": null,
   "id": "e5306448",
   "metadata": {
    "tags": []
   },
   "outputs": [],
   "source": [
    "plt.figure(figsize=(8, 8))\n",
    "plt.imshow(zz)\n",
    "plt.show()"
   ]
  },
  {
   "cell_type": "code",
   "execution_count": null,
   "outputs": [],
   "source": [
    "plt.figure(figsize=(9, 8))\n",
    "plt.title('~ gaussian',fontsize=20)\n",
    "plt.imshow(zz, cmap='gray')\n",
    "plt.colorbar()\n",
    "\n",
    "ticks, labels = np.linspace(0, zz.shape[0], 5), np.linspace(-1, 1, 5)\n",
    "plt.xticks(ticks, labels)\n",
    "plt.yticks(ticks, labels)\n",
    "# plt.axis('off')\n",
    "plt.show()"
   ],
   "metadata": {
    "collapsed": false
   }
  },
  {
   "cell_type": "markdown",
   "id": "16c0f62b-91c1-4d24-8f6e-785bbda44310",
   "metadata": {},
   "source": [
    "https://matplotlib.org/devdocs/gallery/index.html"
   ]
  },
  {
   "cell_type": "markdown",
   "source": [
    "# Scipy\n",
    "\n",
    "just too much to give an overview\n",
    "https://scipy.github.io/devdocs/reference/cluster.html"
   ],
   "metadata": {
    "collapsed": false
   }
  },
  {
   "cell_type": "markdown",
   "source": [
    "## Scipy example convolutions"
   ],
   "metadata": {
    "collapsed": false
   }
  },
  {
   "cell_type": "code",
   "execution_count": null,
   "outputs": [],
   "source": [
    "from scipy.ndimage import convolve\n",
    "\n",
    "image = np.zeros((50, 50))\n",
    "image[20:-20, 20:-20] = 1\n",
    "image += np.random.rand(*image.shape) * 0.5\n",
    "plt.imshow(image, cmap='gray')\n",
    "plt.show()\n",
    "\n",
    "\n",
    "smoothing_filter = np.ones((3, 3)) / 9\n",
    "smooth_image = convolve(image, smoothing_filter)\n",
    "plt.imshow(smooth_image, cmap='gray')\n",
    "plt.show()\n",
    "\n",
    "\n"
   ],
   "metadata": {
    "collapsed": false
   }
  },
  {
   "cell_type": "markdown",
   "source": [
    "## Scipy Example ODE\n",
    "\n",
    "$\\frac{d}{dt} x = - x^2 + 3$"
   ],
   "metadata": {
    "collapsed": false
   }
  },
  {
   "cell_type": "code",
   "execution_count": null,
   "outputs": [],
   "source": [
    "from scipy.integrate import odeint\n",
    "\n",
    "def dx_dt(x, t):\n",
    "    return - x**2 + 3\n",
    "\n",
    "y_t = odeint(dx_dt, y0=1, t=np.arange(0, 3, 0.01))\n",
    "\n",
    "plt.plot(np.arange(0, 3, 0.01), y_t)\n",
    "plt.show()"
   ],
   "metadata": {
    "collapsed": false
   }
  },
  {
   "cell_type": "markdown",
   "id": "bd7d082e",
   "metadata": {},
   "source": [
    "## Scipy example fitting curve"
   ]
  },
  {
   "cell_type": "code",
   "execution_count": null,
   "id": "ff2e935d",
   "metadata": {
    "tags": []
   },
   "outputs": [],
   "source": [
    "from scipy.optimize import curve_fit\n",
    "\n",
    "def gaussian(x, sigma, mu):\n",
    "    exponent = - (x - mu)**2 / (2*(sigma**2))\n",
    "    return np.exp(exponent)\n",
    "\n",
    "x = np.arange(-3, 3, 0.01)\n",
    "y = gaussian(x, sigma=0.5, mu=1) + np.random.rand(*x.shape) * 0.1\n",
    "plt.plot(x, y)\n",
    "plt.show()\n",
    "\n",
    "# param, _ = curve_fit(gaussian, x, y)\n",
    "# param"
   ]
  },
  {
   "cell_type": "code",
   "execution_count": null,
   "outputs": [],
   "source": [],
   "metadata": {
    "collapsed": false
   }
  }
 ],
 "metadata": {
  "kernelspec": {
   "display_name": "Python 3 (ipykernel)",
   "language": "python",
   "name": "python3"
  },
  "language_info": {
   "codemirror_mode": {
    "name": "ipython",
    "version": 3
   },
   "file_extension": ".py",
   "mimetype": "text/x-python",
   "name": "python",
   "nbconvert_exporter": "python",
   "pygments_lexer": "ipython3",
   "version": "3.10.4"
  }
 },
 "nbformat": 4,
 "nbformat_minor": 5
}
