{
 "cells": [
  {
   "cell_type": "markdown",
   "id": "4ad79deb",
   "metadata": {},
   "source": [
    "# Numpy"
   ]
  },
  {
   "cell_type": "code",
   "execution_count": null,
   "outputs": [],
   "source": [
    "import numpy as np"
   ],
   "metadata": {
    "collapsed": false
   }
  },
  {
   "cell_type": "markdown",
   "source": [
    "## nd-arrays"
   ],
   "metadata": {
    "collapsed": false
   }
  },
  {
   "cell_type": "code",
   "execution_count": null,
   "outputs": [],
   "source": [
    "x = np.array([1, 2, 3, 4, 5, 6])\n",
    "print(x)"
   ],
   "metadata": {
    "collapsed": false
   }
  },
  {
   "cell_type": "markdown",
   "source": [
    "## Array attributes and methods"
   ],
   "metadata": {
    "collapsed": false
   }
  },
  {
   "cell_type": "code",
   "execution_count": null,
   "outputs": [],
   "source": [
    "a = np.array([1, 2, 3, 4, 5, 6])\n",
    "# a.shape, a.size, a.ndim\n",
    "# print(a.reshape(3, 2))\n",
    "# x.astype('int64')\n",
    "# x.max(), x.min(), x.argmax()\n",
    "# x.sum(), x.mean()"
   ],
   "metadata": {
    "collapsed": false
   }
  },
  {
   "cell_type": "markdown",
   "source": [
    "## Fancy indexing"
   ],
   "metadata": {
    "collapsed": false
   }
  },
  {
   "cell_type": "code",
   "execution_count": null,
   "outputs": [],
   "source": [
    "a = np.array([1, 2, 3, 4, 5, 6, 7, 8, 9]).reshape(3, 3)\n",
    "print(f'matrix: \\n{a}')\n",
    "print('raw 0:', a[0])    # get fist axis\n",
    "print('col 0:', a[:, 0]) # get second axis"
   ],
   "metadata": {
    "collapsed": false
   }
  },
  {
   "cell_type": "code",
   "execution_count": null,
   "outputs": [],
   "source": [
    "a = np.array([1, 2, 3, 4, 5, 6, 7, 8, 9])\n",
    "# print(a[[0, 1, 3]])      # get elements by list of indices\n",
    "# print(a[0:5:2])          # get elements from index 0 to index 5 in steps of 2\n",
    "# print(a[::-1])           # reverse the array\n",
    "# print(a[-1])             # get the last element"
   ],
   "metadata": {
    "collapsed": false
   }
  },
  {
   "cell_type": "markdown",
   "id": "08985548",
   "metadata": {},
   "source": [
    "## ufunc (universal functions)"
   ]
  },
  {
   "cell_type": "code",
   "execution_count": null,
   "id": "656a37d0",
   "metadata": {
    "tags": []
   },
   "outputs": [],
   "source": [
    "a = [1, 1, 1]\n",
    "print(list(map(lambda x: x * 2 + 0.5, a))) # how to apply arithmetic operations element wise on lists\n",
    "\n",
    "a = np.array([1, 1, 1])\n",
    "b = a * 2 + 0.5           # all arithmetic operations are applied element wise\n",
    "print(b)"
   ]
  },
  {
   "cell_type": "markdown",
   "id": "c403ddb6",
   "metadata": {},
   "source": [
    "## there are a lot more ufunc"
   ]
  },
  {
   "cell_type": "code",
   "execution_count": null,
   "id": "143c5af4",
   "metadata": {
    "tags": []
   },
   "outputs": [],
   "source": [
    "a = np.array([0.25, 0.5, 0.75])\n",
    "# np.sin, np.log"
   ]
  },
  {
   "cell_type": "markdown",
   "id": "f7d744e1",
   "metadata": {},
   "source": [
    "## arrays initialization"
   ]
  },
  {
   "cell_type": "code",
   "execution_count": null,
   "id": "1b52d4e0-1d2c-4bc4-8ac1-7daa8e08852e",
   "metadata": {},
   "outputs": [],
   "source": [
    "a = np.zeros((3, 3))\n",
    "print(a)\n",
    "\n",
    "a = np.ones((3, 3))\n",
    "print(a)\n",
    "\n",
    "a = np.full((3, 3), 5.)\n",
    "print(a)\n",
    "\n",
    "a = np.random.rand(3, 3)\n",
    "print(a)\n",
    "\n",
    "a = np.zeros_like(a)\n",
    "print(a)"
   ]
  },
  {
   "cell_type": "code",
   "execution_count": null,
   "id": "1443bc2f-2583-412a-acb1-fd1c87ccff27",
   "metadata": {},
   "outputs": [],
   "source": [
    "# random numbers"
   ]
  },
  {
   "cell_type": "code",
   "execution_count": null,
   "id": "6068d838-3018-4c88-a3e1-45e82a6aba90",
   "metadata": {},
   "outputs": [],
   "source": [
    "# np.random.rand()          # uniform 0-1\n",
    "# np.random.randn()         # gaussian dist. mean 0 std 1\n",
    "# np.random.randint(0, 3)   # random integer\n",
    "# np.random.randint(3, size=(3, 3))\n",
    "\n",
    "list_x = ['a', 'b', 'c', 'd', 'e']\n",
    "a = np.random.choice(list_x, size=2, replace=False)\n",
    "print(a)"
   ]
  },
  {
   "cell_type": "markdown",
   "id": "4c1d6851",
   "metadata": {},
   "source": [
    "## array - array operations"
   ]
  },
  {
   "cell_type": "code",
   "execution_count": null,
   "id": "65186be6",
   "metadata": {
    "tags": []
   },
   "outputs": [],
   "source": [
    "a = np.random.rand(3)\n",
    "b = np.random.rand(3)\n",
    "# np.dot(a, b), a.dot(b), np.sum(a * b)"
   ]
  },
  {
   "cell_type": "code",
   "execution_count": null,
   "id": "c6675c91-4e61-4885-bd1f-6ea40e0ac4eb",
   "metadata": {},
   "outputs": [],
   "source": [
    "x = np.ones((3, 3))\n",
    "#np.sum(x, axis=1)\n",
    "x[0, :] = 0\n",
    "print(x)\n",
    "np.sum(x, axis=0), np.sum(x, axis=1)"
   ]
  },
  {
   "cell_type": "code",
   "execution_count": null,
   "id": "4be97ebf-6176-4d5f-8dfa-37c06938e110",
   "metadata": {},
   "outputs": [],
   "source": [
    "x = np.zeros(10)\n",
    "x[None, :, np.newaxis].shape"
   ]
  },
  {
   "cell_type": "markdown",
   "id": "8f450e6b",
   "metadata": {},
   "source": [
    "## broadcasting example distance between array an point"
   ]
  },
  {
   "cell_type": "code",
   "execution_count": null,
   "id": "66996573",
   "metadata": {
    "tags": []
   },
   "outputs": [],
   "source": [
    "x = np.random.rand(10, 3) # shape (10, 3)\n",
    "x0 = np.array([0.5, 0.5, 0.5]) # shape (3, )\n",
    "\n",
    "print(np.mean(np.sqrt(np.mean((x - x0)**2, axis=1)))) # l2 distance sqrt(1/N * sum_i (x_i - x0)**2))"
   ]
  },
  {
   "cell_type": "code",
   "execution_count": null,
   "id": "6a9d08ab-a09a-418d-b4e9-82dd1cfec411",
   "metadata": {},
   "outputs": [],
   "source": [
    "x = np.random.rand(10, 3)        # shape (10, 3)\n",
    "x0 = np.array([[0.5, 0.5, 0.5],      # shape (2, 3)\n",
    "               [0, 0, 0]])\n",
    "\n",
    "print(np.mean(np.sqrt(np.mean((x[:, None] - x0)**2, axis=2)), axis=0))"
   ]
  },
  {
   "cell_type": "markdown",
   "id": "8e3dc5e6",
   "metadata": {},
   "source": [
    "for more info https://numpy.org/doc/stable/user/basics.broadcasting.html"
   ]
  },
  {
   "cell_type": "markdown",
   "id": "721309f7",
   "metadata": {},
   "source": [
    "## advanced indexing and masking"
   ]
  },
  {
   "cell_type": "code",
   "execution_count": null,
   "id": "fae2721b",
   "metadata": {
    "tags": []
   },
   "outputs": [],
   "source": [
    "x  = np.random.rand(10)\n",
    "print(x)\n",
    "mask = x > 0.5\n",
    "print(mask)\n",
    "print(x[mask])"
   ]
  },
  {
   "cell_type": "code",
   "execution_count": null,
   "id": "9f05584b",
   "metadata": {
    "tags": []
   },
   "outputs": [],
   "source": [
    "# case 1\n",
    "x  = np.random.rand(10)\n",
    "index = np.where(x > 0.5)[0]\n",
    "print(index)\n",
    "print(x[index])\n",
    "\n",
    "print(np.where(x > 0.5, 1, 0))"
   ]
  },
  {
   "cell_type": "markdown",
   "id": "900283d5",
   "metadata": {},
   "source": [
    "## numpy linalg"
   ]
  },
  {
   "cell_type": "code",
   "execution_count": null,
   "id": "ef64bc6a",
   "metadata": {
    "tags": []
   },
   "outputs": [],
   "source": [
    "matrix = np.random.rand(3, 3)"
   ]
  },
  {
   "cell_type": "code",
   "execution_count": null,
   "id": "68619b1b-6c94-4a85-8846-9dceb4ff0c5c",
   "metadata": {},
   "outputs": [],
   "source": [
    "eig, eigvectors = np.linalg.eig(matrix)\n",
    "print(eig)\n",
    "print(eigvectors)"
   ]
  },
  {
   "cell_type": "code",
   "execution_count": null,
   "id": "cc4728b7-a5fa-43c0-b0c4-a64b34d93c04",
   "metadata": {},
   "outputs": [],
   "source": [
    "print(np.linalg.inv(matrix))"
   ]
  },
  {
   "cell_type": "code",
   "execution_count": null,
   "id": "bbe5ba7f",
   "metadata": {
    "tags": []
   },
   "outputs": [],
   "source": [
    "print(np.matmul(np.linalg.inv(matrix), matrix))"
   ]
  },
  {
   "cell_type": "code",
   "execution_count": null,
   "id": "cf55136d",
   "metadata": {
    "tags": []
   },
   "outputs": [],
   "source": [
    "np.linalg.svd(matrix)"
   ]
  },
  {
   "cell_type": "markdown",
   "id": "486b63b8",
   "metadata": {},
   "source": [
    "# numpy i/o"
   ]
  },
  {
   "cell_type": "code",
   "execution_count": null,
   "id": "8b9a1328",
   "metadata": {
    "tags": []
   },
   "outputs": [],
   "source": [
    "np.save('test.npy', matrix)\n",
    "np.load('test.npy')"
   ]
  },
  {
   "cell_type": "markdown",
   "source": [
    "# more array initializations"
   ],
   "metadata": {
    "collapsed": false
   }
  },
  {
   "cell_type": "code",
   "execution_count": null,
   "id": "f402acd0-5647-4a2d-9e02-46fd6d18cf8e",
   "metadata": {},
   "outputs": [],
   "source": [
    "np.arange(0, 1, 0.1)\n",
    "np.linspace(0, 1, 5)\n",
    "print(np.logspace(0, 3, 5))   # initialize an array of size 5"
   ]
  },
  {
   "cell_type": "markdown",
   "id": "86ac83c0",
   "metadata": {},
   "source": [
    "# Matplotlib"
   ]
  },
  {
   "cell_type": "code",
   "execution_count": null,
   "id": "700291fb",
   "metadata": {
    "tags": []
   },
   "outputs": [],
   "source": [
    "import matplotlib.pyplot as plt"
   ]
  },
  {
   "cell_type": "code",
   "execution_count": null,
   "id": "8d57b01c",
   "metadata": {
    "tags": []
   },
   "outputs": [],
   "source": [
    "x = np.arange(0, 12, 0.1)\n",
    "y = np.sin(x)"
   ]
  },
  {
   "cell_type": "code",
   "execution_count": null,
   "id": "62dd5e55-c49b-4737-8fae-e4500ffc6265",
   "metadata": {},
   "outputs": [],
   "source": [
    "plt.figure(figsize=(10, 5))\n",
    "\n",
    "plt.plot(x, y, c=np.random.rand(3), label='line')\n",
    "plt.scatter(x[::10], y[::10], label='scatter')\n",
    "plt.legend()\n",
    "plt.xlabel('x')\n",
    "plt.ylabel('sin(x)')\n",
    "plt.show()"
   ]
  },
  {
   "cell_type": "code",
   "execution_count": null,
   "id": "f8c76c1b-946a-42c7-8d38-6311972bdac7",
   "metadata": {},
   "outputs": [],
   "source": [
    "fig, axes = plt.subplots(1, 2)\n",
    "axes[0].plot(x, y)\n",
    "axes[1].plot(x, np.cos(x))\n",
    "axes[1].set_xlabel('x')\n"
   ]
  },
  {
   "cell_type": "code",
   "execution_count": null,
   "id": "302e38cb-cd2f-461b-b529-6cb333e024b8",
   "metadata": {},
   "outputs": [],
   "source": [
    "axes"
   ]
  },
  {
   "cell_type": "code",
   "execution_count": null,
   "id": "f67dbba1",
   "metadata": {
    "tags": []
   },
   "outputs": [],
   "source": [
    "x, y = np.arange(-1, 1, 0.01), np.arange(-1, 1, 0.01)\n",
    "\n",
    "\"\"\"\n",
    "(-1, -1)......(-1, 1)\n",
    ".\n",
    ".\n",
    ".\n",
    "(1, -1) .......(1, 1)\n",
    "\"\"\"\n",
    "\n",
    "xx, yy = np.meshgrid(x, y)\n",
    "zz = np.exp(- (xx)**2 - (yy)**2) \n",
    "zz.shape"
   ]
  },
  {
   "cell_type": "code",
   "execution_count": null,
   "id": "e5306448",
   "metadata": {
    "tags": []
   },
   "outputs": [],
   "source": [
    "plt.imshow(zz, cmap='gray')\n",
    "plt.colorbar()"
   ]
  },
  {
   "cell_type": "markdown",
   "id": "16c0f62b-91c1-4d24-8f6e-785bbda44310",
   "metadata": {},
   "source": [
    "https://matplotlib.org/devdocs/gallery/index.html"
   ]
  },
  {
   "cell_type": "markdown",
   "source": [
    "# Scipy\n",
    "\n",
    "just too much to give an overview\n",
    "https://scipy.github.io/devdocs/reference/cluster.html"
   ],
   "metadata": {
    "collapsed": false
   }
  },
  {
   "cell_type": "markdown",
   "source": [
    "## Scipy example convolutions"
   ],
   "metadata": {
    "collapsed": false
   }
  },
  {
   "cell_type": "code",
   "execution_count": null,
   "outputs": [],
   "source": [
    "from scipy.ndimage import convolve\n",
    "\n",
    "image = np.zeros((50, 50))\n",
    "image[20:-20, 20:-20] = 1\n",
    "image += np.random.rand(*image.shape) * 0.5\n",
    "plt.imshow(image, cmap='gray')\n",
    "plt.show()\n",
    "\n",
    "\n",
    "smoothing_filter = np.ones((3, 3)) / 9\n",
    "smooth_image = convolve(image, smoothing_filter)\n",
    "plt.imshow(smooth_image, cmap='gray')\n",
    "\n",
    "\n"
   ],
   "metadata": {
    "collapsed": false
   }
  },
  {
   "cell_type": "markdown",
   "source": [
    "## Scipy Example ODE\n",
    "\n",
    "$\\frac{d}{dt} x = - x^2 + 3$"
   ],
   "metadata": {
    "collapsed": false
   }
  },
  {
   "cell_type": "code",
   "execution_count": null,
   "outputs": [],
   "source": [
    "from scipy.integrate import odeint\n",
    "\n",
    "def dx_dt(x, t):\n",
    "    return - x**2 + 3\n",
    "\n",
    "y_t = odeint(dx_dt, y0=1, t=np.arange(0, 3, 0.01))\n",
    "\n",
    "plt.plot(np.arange(0, 3, 0.01), y_t)"
   ],
   "metadata": {
    "collapsed": false
   }
  },
  {
   "cell_type": "markdown",
   "id": "bd7d082e",
   "metadata": {},
   "source": [
    "## Scipy example fitting curve"
   ]
  },
  {
   "cell_type": "code",
   "execution_count": null,
   "id": "ff2e935d",
   "metadata": {
    "tags": []
   },
   "outputs": [],
   "source": [
    "from scipy.optimize import curve_fit\n",
    "\n",
    "def gaussian(x, sigma, mu):\n",
    "    exponent = - (x - mu)**2 / (2*(sigma**2))\n",
    "    return np.exp(exponent)\n",
    "\n",
    "x = np.arange(-3, 3, 0.01)\n",
    "y = gaussian(x, sigma=0.5, mu=1) + np.random.rand(*x.shape) * 0.1\n",
    "plt.plot(x, y)\n",
    "\n",
    "# param, _ = curve_fit(gaussian, x, y)\n",
    "# param"
   ]
  },
  {
   "cell_type": "code",
   "execution_count": null,
   "id": "25fd273d-7b5f-4d48-b0db-9fa363fdb98d",
   "metadata": {},
   "outputs": [],
   "source": []
  }
 ],
 "metadata": {
  "kernelspec": {
   "display_name": "Python 3 (ipykernel)",
   "language": "python",
   "name": "python3"
  },
  "language_info": {
   "codemirror_mode": {
    "name": "ipython",
    "version": 3
   },
   "file_extension": ".py",
   "mimetype": "text/x-python",
   "name": "python",
   "nbconvert_exporter": "python",
   "pygments_lexer": "ipython3",
   "version": "3.10.4"
  }
 },
 "nbformat": 4,
 "nbformat_minor": 5
}
